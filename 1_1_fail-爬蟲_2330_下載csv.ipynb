{
  "nbformat": 4,
  "nbformat_minor": 0,
  "metadata": {
    "colab": {
      "name": "1-1_爬蟲_2330_下載csv.ipynb",
      "provenance": [],
      "authorship_tag": "ABX9TyOejKG6mW4q+DYMZ1x2bplC",
      "include_colab_link": true
    },
    "kernelspec": {
      "name": "python3",
      "display_name": "Python 3"
    }
  },
  "cells": [
    {
      "cell_type": "markdown",
      "metadata": {
        "id": "view-in-github",
        "colab_type": "text"
      },
      "source": [
        "<a href=\"https://colab.research.google.com/github/tewei0328/backtest/blob/main/1_1_%E7%88%AC%E8%9F%B2_2330_%E4%B8%8B%E8%BC%89csv.ipynb\" target=\"_parent\"><img src=\"https://colab.research.google.com/assets/colab-badge.svg\" alt=\"Open In Colab\"/></a>"
      ]
    },
    {
      "cell_type": "code",
      "metadata": {
        "colab": {
          "base_uri": "https://localhost:8080/"
        },
        "id": "tt0O_mxl0q9l",
        "outputId": "2856c3a7-a39c-418c-f2eb-9ea0e7e18235"
      },
      "source": [
        "1+1"
      ],
      "execution_count": 1,
      "outputs": [
        {
          "output_type": "execute_result",
          "data": {
            "text/plain": [
              "2"
            ]
          },
          "metadata": {
            "tags": []
          },
          "execution_count": 1
        }
      ]
    },
    {
      "cell_type": "code",
      "metadata": {
        "id": "qO3M5zW30wUK"
      },
      "source": [
        "import pandas_datareader as pdr"
      ],
      "execution_count": 2,
      "outputs": []
    },
    {
      "cell_type": "code",
      "metadata": {
        "id": "hC-tzQoD0wWq"
      },
      "source": [
        "df = pdr.DataReader('2330.TW', 'yahoo')"
      ],
      "execution_count": 3,
      "outputs": []
    },
    {
      "cell_type": "code",
      "metadata": {
        "colab": {
          "base_uri": "https://localhost:8080/",
          "height": 450
        },
        "id": "rnF0XWT50wYy",
        "outputId": "8a7e3ca0-7885-4df8-9e0c-96566cbf6090"
      },
      "source": [
        "df"
      ],
      "execution_count": 4,
      "outputs": [
        {
          "output_type": "execute_result",
          "data": {
            "text/html": [
              "<div>\n",
              "<style scoped>\n",
              "    .dataframe tbody tr th:only-of-type {\n",
              "        vertical-align: middle;\n",
              "    }\n",
              "\n",
              "    .dataframe tbody tr th {\n",
              "        vertical-align: top;\n",
              "    }\n",
              "\n",
              "    .dataframe thead th {\n",
              "        text-align: right;\n",
              "    }\n",
              "</style>\n",
              "<table border=\"1\" class=\"dataframe\">\n",
              "  <thead>\n",
              "    <tr style=\"text-align: right;\">\n",
              "      <th></th>\n",
              "      <th>High</th>\n",
              "      <th>Low</th>\n",
              "      <th>Open</th>\n",
              "      <th>Close</th>\n",
              "      <th>Volume</th>\n",
              "      <th>Adj Close</th>\n",
              "    </tr>\n",
              "    <tr>\n",
              "      <th>Date</th>\n",
              "      <th></th>\n",
              "      <th></th>\n",
              "      <th></th>\n",
              "      <th></th>\n",
              "      <th></th>\n",
              "      <th></th>\n",
              "    </tr>\n",
              "  </thead>\n",
              "  <tbody>\n",
              "    <tr>\n",
              "      <th>2016-03-09</th>\n",
              "      <td>153.0</td>\n",
              "      <td>150.5</td>\n",
              "      <td>152.0</td>\n",
              "      <td>153.0</td>\n",
              "      <td>24004000.0</td>\n",
              "      <td>127.467392</td>\n",
              "    </tr>\n",
              "    <tr>\n",
              "      <th>2016-03-10</th>\n",
              "      <td>154.5</td>\n",
              "      <td>151.5</td>\n",
              "      <td>153.0</td>\n",
              "      <td>154.5</td>\n",
              "      <td>28302000.0</td>\n",
              "      <td>128.717087</td>\n",
              "    </tr>\n",
              "    <tr>\n",
              "      <th>2016-03-11</th>\n",
              "      <td>155.0</td>\n",
              "      <td>153.0</td>\n",
              "      <td>154.5</td>\n",
              "      <td>155.0</td>\n",
              "      <td>29566000.0</td>\n",
              "      <td>129.133667</td>\n",
              "    </tr>\n",
              "    <tr>\n",
              "      <th>2016-03-14</th>\n",
              "      <td>157.5</td>\n",
              "      <td>155.5</td>\n",
              "      <td>156.5</td>\n",
              "      <td>156.0</td>\n",
              "      <td>32751000.0</td>\n",
              "      <td>129.966751</td>\n",
              "    </tr>\n",
              "    <tr>\n",
              "      <th>2016-03-15</th>\n",
              "      <td>156.5</td>\n",
              "      <td>153.0</td>\n",
              "      <td>155.0</td>\n",
              "      <td>154.5</td>\n",
              "      <td>28689000.0</td>\n",
              "      <td>128.717087</td>\n",
              "    </tr>\n",
              "    <tr>\n",
              "      <th>...</th>\n",
              "      <td>...</td>\n",
              "      <td>...</td>\n",
              "      <td>...</td>\n",
              "      <td>...</td>\n",
              "      <td>...</td>\n",
              "      <td>...</td>\n",
              "    </tr>\n",
              "    <tr>\n",
              "      <th>2021-03-02</th>\n",
              "      <td>622.0</td>\n",
              "      <td>609.0</td>\n",
              "      <td>621.0</td>\n",
              "      <td>609.0</td>\n",
              "      <td>54041533.0</td>\n",
              "      <td>609.000000</td>\n",
              "    </tr>\n",
              "    <tr>\n",
              "      <th>2021-03-03</th>\n",
              "      <td>622.0</td>\n",
              "      <td>601.0</td>\n",
              "      <td>609.0</td>\n",
              "      <td>622.0</td>\n",
              "      <td>48252965.0</td>\n",
              "      <td>622.000000</td>\n",
              "    </tr>\n",
              "    <tr>\n",
              "      <th>2021-03-04</th>\n",
              "      <td>611.0</td>\n",
              "      <td>601.0</td>\n",
              "      <td>609.0</td>\n",
              "      <td>601.0</td>\n",
              "      <td>67711962.0</td>\n",
              "      <td>601.000000</td>\n",
              "    </tr>\n",
              "    <tr>\n",
              "      <th>2021-03-05</th>\n",
              "      <td>605.0</td>\n",
              "      <td>584.0</td>\n",
              "      <td>588.0</td>\n",
              "      <td>601.0</td>\n",
              "      <td>79918467.0</td>\n",
              "      <td>601.000000</td>\n",
              "    </tr>\n",
              "    <tr>\n",
              "      <th>2021-03-08</th>\n",
              "      <td>610.0</td>\n",
              "      <td>598.0</td>\n",
              "      <td>608.0</td>\n",
              "      <td>598.0</td>\n",
              "      <td>44799016.0</td>\n",
              "      <td>598.000000</td>\n",
              "    </tr>\n",
              "  </tbody>\n",
              "</table>\n",
              "<p>1217 rows × 6 columns</p>\n",
              "</div>"
            ],
            "text/plain": [
              "             High    Low   Open  Close      Volume   Adj Close\n",
              "Date                                                          \n",
              "2016-03-09  153.0  150.5  152.0  153.0  24004000.0  127.467392\n",
              "2016-03-10  154.5  151.5  153.0  154.5  28302000.0  128.717087\n",
              "2016-03-11  155.0  153.0  154.5  155.0  29566000.0  129.133667\n",
              "2016-03-14  157.5  155.5  156.5  156.0  32751000.0  129.966751\n",
              "2016-03-15  156.5  153.0  155.0  154.5  28689000.0  128.717087\n",
              "...           ...    ...    ...    ...         ...         ...\n",
              "2021-03-02  622.0  609.0  621.0  609.0  54041533.0  609.000000\n",
              "2021-03-03  622.0  601.0  609.0  622.0  48252965.0  622.000000\n",
              "2021-03-04  611.0  601.0  609.0  601.0  67711962.0  601.000000\n",
              "2021-03-05  605.0  584.0  588.0  601.0  79918467.0  601.000000\n",
              "2021-03-08  610.0  598.0  608.0  598.0  44799016.0  598.000000\n",
              "\n",
              "[1217 rows x 6 columns]"
            ]
          },
          "metadata": {
            "tags": []
          },
          "execution_count": 4
        }
      ]
    },
    {
      "cell_type": "code",
      "metadata": {
        "id": "Fu1N_qG64mHK"
      },
      "source": [
        "df1=df.Close"
      ],
      "execution_count": 8,
      "outputs": []
    },
    {
      "cell_type": "code",
      "metadata": {
        "colab": {
          "base_uri": "https://localhost:8080/"
        },
        "id": "rS3AZrrP4zAh",
        "outputId": "4ff9d265-a58f-49da-fb69-d5d77cbb0a9e"
      },
      "source": [
        "df1"
      ],
      "execution_count": 10,
      "outputs": [
        {
          "output_type": "execute_result",
          "data": {
            "text/plain": [
              "Date\n",
              "2016-03-09    153.0\n",
              "2016-03-10    154.5\n",
              "2016-03-11    155.0\n",
              "2016-03-14    156.0\n",
              "2016-03-15    154.5\n",
              "              ...  \n",
              "2021-03-02    609.0\n",
              "2021-03-03    622.0\n",
              "2021-03-04    601.0\n",
              "2021-03-05    601.0\n",
              "2021-03-08    598.0\n",
              "Name: Close, Length: 1217, dtype: float64"
            ]
          },
          "metadata": {
            "tags": []
          },
          "execution_count": 10
        }
      ]
    },
    {
      "cell_type": "code",
      "metadata": {
        "id": "WZ2DqIes4q-h"
      },
      "source": [
        "df1.to_csv('aaa.csv')"
      ],
      "execution_count": 9,
      "outputs": []
    },
    {
      "cell_type": "code",
      "metadata": {
        "colab": {
          "base_uri": "https://localhost:8080/",
          "height": 331
        },
        "id": "F3MtS5sX3L3-",
        "outputId": "936eac78-d06b-4806-b2a8-28daea6089fe"
      },
      "source": [
        "df.Close.plot(figsize=(20,10))"
      ],
      "execution_count": 7,
      "outputs": [
        {
          "output_type": "execute_result",
          "data": {
            "text/plain": [
              "<matplotlib.axes._subplots.AxesSubplot at 0x7efeaac93610>"
            ]
          },
          "metadata": {
            "tags": []
          },
          "execution_count": 7
        },
        {
          "output_type": "display_data",
          "data": {
            "image/png": "[encoded data removed]",
            "text/plain": [
              "<Figure size 1440x720 with 1 Axes>"
            ]
          },
          "metadata": {
            "tags": [],
            "needs_background": "light"
          }
        }
      ]
    },
    {
      "cell_type": "code",
      "metadata": {
        "id": "SfA3mX4U2bhb"
      },
      "source": [
        ""
      ],
      "execution_count": null,
      "outputs": []
    },
    {
      "cell_type": "code",
      "metadata": {
        "id": "84_Ahm6j2b9K"
      },
      "source": [
        ""
      ],
      "execution_count": null,
      "outputs": []
    },
    {
      "cell_type": "code",
      "metadata": {
        "id": "nN_Ipibl0wbR"
      },
      "source": [
        ""
      ],
      "execution_count": null,
      "outputs": []
    },
    {
      "cell_type": "code",
      "metadata": {
        "id": "8-40VoZd0wd5"
      },
      "source": [
        ""
      ],
      "execution_count": null,
      "outputs": []
    },
    {
      "cell_type": "code",
      "metadata": {
        "id": "398K0ScS0wgh"
      },
      "source": [
        ""
      ],
      "execution_count": null,
      "outputs": []
    }
  ]
}
