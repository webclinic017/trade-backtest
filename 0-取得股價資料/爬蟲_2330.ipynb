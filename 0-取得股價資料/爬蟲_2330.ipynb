{
  "nbformat": 4,
  "nbformat_minor": 0,
  "metadata": {
    "colab": {
      "name": "爬蟲-2330.ipynb",
      "provenance": [],
      "authorship_tag": "ABX9TyONcAYFP5skpv5q5Hn81pnu",
      "include_colab_link": true
    },
    "kernelspec": {
      "name": "python3",
      "display_name": "Python 3"
    }
  },
  "cells": [
    {
      "cell_type": "markdown",
      "metadata": {
        "id": "view-in-github",
        "colab_type": "text"
      },
      "source": [
        "<a href=\"https://colab.research.google.com/github/tewei0328/backtest/blob/main/%E7%88%AC%E8%9F%B2_2330.ipynb\" target=\"_parent\"><img src=\"https://colab.research.google.com/assets/colab-badge.svg\" alt=\"Open In Colab\"/></a>"
      ]
    },
    {
      "cell_type": "code",
      "metadata": {
        "id": "R2NTLA28-qB6",
        "colab": {
          "base_uri": "https://localhost:8080/",
          "height": 541
        },
        "outputId": "e16cbc0e-486b-4f3a-e23c-55e9c2ae91bf"
      },
      "source": [
        "import requests\n",
        "from bs4 import BeautifulSoup\n",
        "\n",
        "stock='2330'\n",
        " # 要抓取的網址\n",
        "url = 'https://tw.stock.yahoo.com/q/q?s=' + stock \n",
        "#請求網站\n",
        "list_req = requests.get(url)\n",
        "#將整個網站的程式碼爬下來\n",
        "soup = BeautifulSoup(list_req.content, \"html.parser\")\n",
        "#找到table這個標籤\n",
        "soup.find('table') #只找到一個\n",
        "soup.find_all('table') #找到網頁內所有的table\n",
        "soup.find_all('table', {'border':'2'}) #特別指定'border':'2'"
      ],
      "execution_count": null,
      "outputs": [
        {
          "output_type": "execute_result",
          "data": {
            "text/plain": [
              "[<table border=\"2\" width=\"750\">\n",
              " <tr bgcolor=\"#fff0c1\">\n",
              " <th align=\"center\">股票<br/>代號</th>\n",
              " <th align=\"center\" width=\"55\">時間</th>\n",
              " <th align=\"center\" width=\"55\">成交</th>\n",
              " <th align=\"center\" width=\"55\">買進</th>\n",
              " <th align=\"center\" width=\"55\">賣出</th>\n",
              " <th align=\"center\" width=\"55\">漲跌</th>\n",
              " <th align=\"center\" width=\"55\">張數</th>\n",
              " <th align=\"center\" width=\"55\">昨收</th>\n",
              " <th align=\"center\" width=\"55\">開盤</th>\n",
              " <th align=\"center\" width=\"55\">最高</th>\n",
              " <th align=\"center\" width=\"55\">最低</th>\n",
              " <th align=\"center\">個股資料</th>\n",
              " </tr>\n",
              " <tr>\n",
              " <td align=\"center\" width=\"105\"><a href=\"/q/bc?s=2330\">2330台積電</a><br/><a href=\"/pf/pfsel?stocklist=2330;\"><font size=\"-1\">加到投資組合</font><br/></a></td>\n",
              " <td align=\"center\" bgcolor=\"#FFFfff\" nowrap=\"\">14:30</td>\n",
              " <td align=\"center\" bgcolor=\"#FFFfff\" nowrap=\"\"><b>316.0</b></td>\n",
              " <td align=\"center\" bgcolor=\"#FFFfff\" nowrap=\"\">316.0</td>\n",
              " <td align=\"center\" bgcolor=\"#FFFfff\" nowrap=\"\">316.5</td>\n",
              " <td align=\"center\" bgcolor=\"#FFFfff\" nowrap=\"\"><font color=\"#009900\">▽2.5\n",
              "                 <td align=\"center\" bgcolor=\"#FFFfff\" nowrap=\"\">61,095</td>\n",
              " <td align=\"center\" bgcolor=\"#FFFfff\" nowrap=\"\">318.5</td>\n",
              " <td align=\"center\" bgcolor=\"#FFFfff\" nowrap=\"\">319.0</td>\n",
              " <td align=\"center\" bgcolor=\"#FFFfff\" nowrap=\"\">320.0</td>\n",
              " <td align=\"center\" bgcolor=\"#FFFfff\" nowrap=\"\">315.0</td>\n",
              " <td align=\"center\" class=\"tt\" width=\"137\">\n",
              " <a href=\"/q/ts?s=2330\">成交明細</a><br/><a href=\"/q/ta?s=2330\">技術</a>　<a href=\"/q/h?s=2330\">新聞</a><a href=\"/d/s/company_2330.html\"><br/>基本</a>　<a href=\"/d/s/credit_2330.html\">籌碼</a><a href=\"https://tw.rd.yahoo.com/referurl/stock/other/SIG=125v47s73/**https://tw.screener.finance.yahoo.net/screener/check.html?symid=2330\" style=\"color:red\" target=\"_blank\"><br/>個股健診</a></td></font></td> </tr>\n",
              " </table>]"
            ]
          },
          "metadata": {
            "tags": []
          },
          "execution_count": 2
        }
      ]
    },
    {
      "cell_type": "code",
      "metadata": {
        "id": "8L7Bh0NI_KV1"
      },
      "source": [
        "stock='2330'\n",
        " # 要抓取的網址\n",
        "url = 'https://tw.stock.yahoo.com/q/q?s=' + stock \n",
        "#請求網站\n",
        "list_req = requests.get(url)\n",
        "#將整個網站的程式碼爬下來\n",
        "soup = BeautifulSoup(list_req.content, \"html.parser\")\n",
        "#找到table這個標籤\n",
        "soup.find('table') #只找到一個\n",
        "soup.find_all('table') #找到網頁內所有的table\n",
        "soup.find_all('table', {'border':'2'}) #特別指定'border':'2'"
      ],
      "execution_count": null,
      "outputs": []
    },
    {
      "cell_type": "code",
      "metadata": {
        "id": "BOwv0sNfAKq4",
        "colab": {
          "base_uri": "https://localhost:8080/",
          "height": 50
        },
        "outputId": "59e2a7ed-7374-4545-944e-a126c0bde27e"
      },
      "source": [
        "import requests\n",
        "from bs4 import BeautifulSoup\n",
        "\n",
        "stock='2330'\n",
        " # 要抓取的網址\n",
        "url = 'https://tw.stock.yahoo.com/q/q?s=' + stock \n",
        "#請求網站\n",
        "list_req = requests.get(url)\n",
        "#將整個網站的程式碼爬下來\n",
        "soup = BeautifulSoup(list_req.content, \"html.parser\")\n",
        "#找到b這個標籤\n",
        "getstock= soup.find('b').text #只抓到第一個<b>\n",
        "print(getstock)\n",
        "\n",
        "getstock= soup.findAll('b')[1].text #抓到收盤價格\n",
        "print(getstock)"
      ],
      "execution_count": null,
      "outputs": [
        {
          "output_type": "stream",
          "text": [
            "信箱\n",
            "316.0\n"
          ],
          "name": "stdout"
        }
      ]
    },
    {
      "cell_type": "code",
      "metadata": {
        "id": "fGT02wg-HlnA",
        "colab": {
          "base_uri": "https://localhost:8080/",
          "height": 84
        },
        "outputId": "42172af9-896f-4a64-dcb6-6bff8582aa85"
      },
      "source": [
        "!pip install schedule"
      ],
      "execution_count": null,
      "outputs": [
        {
          "output_type": "stream",
          "text": [
            "Collecting schedule\n",
            "  Downloading https://files.pythonhosted.org/packages/57/22/3a709462eb02412bd1145f6e53604f36bba191e3e4e397bea4a718fec38c/schedule-0.6.0-py2.py3-none-any.whl\n",
            "Installing collected packages: schedule\n",
            "Successfully installed schedule-0.6.0\n"
          ],
          "name": "stdout"
        }
      ]
    },
    {
      "cell_type": "code",
      "metadata": {
        "id": "kDlaaBJTHehr",
        "colab": {
          "base_uri": "https://localhost:8080/",
          "height": 67
        },
        "outputId": "41deeb0e-9a73-40d2-847a-38fc84a26520"
      },
      "source": [
        "import schedule\n",
        "import time\n",
        "\n",
        "def job():\n",
        "    print(\"I'm working...\")\n",
        "\n",
        "schedule.every(10).seconds.do(job) #每10秒執行一次\n",
        "#schedule.every().hour.do(job) #每小時執行一次\n",
        "#schedule.every().day.at(\"9:30\").do(job) #每天9點30執行一次\n",
        "#schedule.every().monday.do(job) #每週一執行一次\n",
        "#schedule.every().wednesday.at(\"14:45\").do(job) #每週三14點45執行一次\n",
        "\n",
        "# 無窮迴圈\n",
        "while True: \n",
        "    schedule.run_pending()\n",
        "    time.sleep(1)"
      ],
      "execution_count": null,
      "outputs": [
        {
          "output_type": "stream",
          "text": [
            "I'm working...\n",
            "I'm working...\n",
            "I'm working...\n"
          ],
          "name": "stdout"
        }
      ]
    }
  ]
}
