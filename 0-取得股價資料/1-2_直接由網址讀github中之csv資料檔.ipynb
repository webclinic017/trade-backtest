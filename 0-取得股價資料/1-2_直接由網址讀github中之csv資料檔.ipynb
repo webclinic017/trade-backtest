{
  "nbformat": 4,
  "nbformat_minor": 0,
  "metadata": {
    "colab": {
      "name": "school-titanic-machine learning-model1125.ipynb",
      "provenance": [],
      "collapsed_sections": [],
      "include_colab_link": true
    },
    "kernelspec": {
      "name": "python3",
      "display_name": "Python 3"
    }
  },
  "cells": [
    {
      "cell_type": "markdown",
      "metadata": {
        "id": "view-in-github",
        "colab_type": "text"
      },
      "source": [
        "<a href=\"https://colab.research.google.com/github/tewei0328/backtest/blob/main/1-2_%E7%9B%B4%E6%8E%A5%E7%94%B1%E7%B6%B2%E5%9D%80%E8%AE%80github%E4%B8%AD%E4%B9%8Bcsv%E8%B3%87%E6%96%99%E6%AA%94.ipynb\" target=\"_parent\"><img src=\"https://colab.research.google.com/assets/colab-badge.svg\" alt=\"Open In Colab\"/></a>"
      ]
    },
    {
      "cell_type": "markdown",
      "metadata": {
        "id": "ec2u3LCzL1Dt"
      },
      "source": [
        "# 1.取得鐵達尼號完整資料集"
      ]
    },
    {
      "cell_type": "code",
      "metadata": {
        "id": "cay2mdsSIix1"
      },
      "source": [
        "import pandas as pd"
      ],
      "execution_count": null,
      "outputs": []
    },
    {
      "cell_type": "code",
      "metadata": {
        "id": "t6dKcmKWIn8w"
      },
      "source": [
        "titanic=pd.read_csv('https://raw.githubusercontent.com/tewei0328/data/master/titanic.csv')"
      ],
      "execution_count": null,
      "outputs": []
    },
    {
      "cell_type": "code",
      "metadata": {
        "id": "JoHsBZUfQi4c",
        "colab": {
          "base_uri": "https://localhost:8080/",
          "height": 34
        },
        "outputId": "5246aaac-beaf-44ce-b849-76990cb48899"
      },
      "source": [
        "titanic.shape"
      ],
      "execution_count": null,
      "outputs": [
        {
          "output_type": "execute_result",
          "data": {
            "text/plain": [
              "(1313, 11)"
            ]
          },
          "metadata": {
            "tags": []
          },
          "execution_count": 16
        }
      ]
    },
    {
      "cell_type": "code",
      "metadata": {
        "id": "LX-spqczJEdO",
        "colab": {
          "base_uri": "https://localhost:8080/",
          "height": 357
        },
        "outputId": "5b52c50e-0746-4086-f50b-0ebf3a9aabb1"
      },
      "source": [
        "titanic.head()"
      ],
      "execution_count": null,
      "outputs": [
        {
          "output_type": "execute_result",
          "data": {
            "text/html": [
              "<div>\n",
              "<style scoped>\n",
              "    .dataframe tbody tr th:only-of-type {\n",
              "        vertical-align: middle;\n",
              "    }\n",
              "\n",
              "    .dataframe tbody tr th {\n",
              "        vertical-align: top;\n",
              "    }\n",
              "\n",
              "    .dataframe thead th {\n",
              "        text-align: right;\n",
              "    }\n",
              "</style>\n",
              "<table border=\"1\" class=\"dataframe\">\n",
              "  <thead>\n",
              "    <tr style=\"text-align: right;\">\n",
              "      <th></th>\n",
              "      <th>row.names</th>\n",
              "      <th>pclass</th>\n",
              "      <th>survived</th>\n",
              "      <th>name</th>\n",
              "      <th>age</th>\n",
              "      <th>embarked</th>\n",
              "      <th>home.dest</th>\n",
              "      <th>room</th>\n",
              "      <th>ticket</th>\n",
              "      <th>boat</th>\n",
              "      <th>sex</th>\n",
              "    </tr>\n",
              "  </thead>\n",
              "  <tbody>\n",
              "    <tr>\n",
              "      <th>0</th>\n",
              "      <td>1</td>\n",
              "      <td>1st</td>\n",
              "      <td>1</td>\n",
              "      <td>Allen, Miss Elisabeth Walton</td>\n",
              "      <td>29.0000</td>\n",
              "      <td>Southampton</td>\n",
              "      <td>St Louis, MO</td>\n",
              "      <td>B-5</td>\n",
              "      <td>24160 L221</td>\n",
              "      <td>2</td>\n",
              "      <td>female</td>\n",
              "    </tr>\n",
              "    <tr>\n",
              "      <th>1</th>\n",
              "      <td>2</td>\n",
              "      <td>1st</td>\n",
              "      <td>0</td>\n",
              "      <td>Allison, Miss Helen Loraine</td>\n",
              "      <td>2.0000</td>\n",
              "      <td>Southampton</td>\n",
              "      <td>Montreal, PQ / Chesterville, ON</td>\n",
              "      <td>C26</td>\n",
              "      <td>NaN</td>\n",
              "      <td>NaN</td>\n",
              "      <td>female</td>\n",
              "    </tr>\n",
              "    <tr>\n",
              "      <th>2</th>\n",
              "      <td>3</td>\n",
              "      <td>1st</td>\n",
              "      <td>0</td>\n",
              "      <td>Allison, Mr Hudson Joshua Creighton</td>\n",
              "      <td>30.0000</td>\n",
              "      <td>Southampton</td>\n",
              "      <td>Montreal, PQ / Chesterville, ON</td>\n",
              "      <td>C26</td>\n",
              "      <td>NaN</td>\n",
              "      <td>(135)</td>\n",
              "      <td>male</td>\n",
              "    </tr>\n",
              "    <tr>\n",
              "      <th>3</th>\n",
              "      <td>4</td>\n",
              "      <td>1st</td>\n",
              "      <td>0</td>\n",
              "      <td>Allison, Mrs Hudson J.C. (Bessie Waldo Daniels)</td>\n",
              "      <td>25.0000</td>\n",
              "      <td>Southampton</td>\n",
              "      <td>Montreal, PQ / Chesterville, ON</td>\n",
              "      <td>C26</td>\n",
              "      <td>NaN</td>\n",
              "      <td>NaN</td>\n",
              "      <td>female</td>\n",
              "    </tr>\n",
              "    <tr>\n",
              "      <th>4</th>\n",
              "      <td>5</td>\n",
              "      <td>1st</td>\n",
              "      <td>1</td>\n",
              "      <td>Allison, Master Hudson Trevor</td>\n",
              "      <td>0.9167</td>\n",
              "      <td>Southampton</td>\n",
              "      <td>Montreal, PQ / Chesterville, ON</td>\n",
              "      <td>C22</td>\n",
              "      <td>NaN</td>\n",
              "      <td>11</td>\n",
              "      <td>male</td>\n",
              "    </tr>\n",
              "  </tbody>\n",
              "</table>\n",
              "</div>"
            ],
            "text/plain": [
              "   row.names pclass  survived  ...      ticket   boat     sex\n",
              "0          1    1st         1  ...  24160 L221      2  female\n",
              "1          2    1st         0  ...         NaN    NaN  female\n",
              "2          3    1st         0  ...         NaN  (135)    male\n",
              "3          4    1st         0  ...         NaN    NaN  female\n",
              "4          5    1st         1  ...         NaN     11    male\n",
              "\n",
              "[5 rows x 11 columns]"
            ]
          },
          "metadata": {
            "tags": []
          },
          "execution_count": 15
        }
      ]
    },
    {
      "cell_type": "markdown",
      "metadata": {
        "id": "xnkXEko9LmGd"
      },
      "source": [
        "# 2.將資料切片成特徵X, 和答案y\n",
        "並進一步切割成訓練集, 和測試集"
      ]
    },
    {
      "cell_type": "code",
      "metadata": {
        "id": "VgpvoCzpJrUl"
      },
      "source": [
        "X=titanic[['pclass','age','sex']]"
      ],
      "execution_count": null,
      "outputs": []
    },
    {
      "cell_type": "code",
      "metadata": {
        "id": "yZe80W2oJ8wt",
        "colab": {
          "base_uri": "https://localhost:8080/",
          "height": 204
        },
        "outputId": "bba5a626-3371-451d-9383-f0a6d4172874"
      },
      "source": [
        "X.head()"
      ],
      "execution_count": null,
      "outputs": [
        {
          "output_type": "execute_result",
          "data": {
            "text/html": [
              "<div>\n",
              "<style scoped>\n",
              "    .dataframe tbody tr th:only-of-type {\n",
              "        vertical-align: middle;\n",
              "    }\n",
              "\n",
              "    .dataframe tbody tr th {\n",
              "        vertical-align: top;\n",
              "    }\n",
              "\n",
              "    .dataframe thead th {\n",
              "        text-align: right;\n",
              "    }\n",
              "</style>\n",
              "<table border=\"1\" class=\"dataframe\">\n",
              "  <thead>\n",
              "    <tr style=\"text-align: right;\">\n",
              "      <th></th>\n",
              "      <th>pclass</th>\n",
              "      <th>age</th>\n",
              "      <th>sex</th>\n",
              "    </tr>\n",
              "  </thead>\n",
              "  <tbody>\n",
              "    <tr>\n",
              "      <th>0</th>\n",
              "      <td>1st</td>\n",
              "      <td>29.0000</td>\n",
              "      <td>female</td>\n",
              "    </tr>\n",
              "    <tr>\n",
              "      <th>1</th>\n",
              "      <td>1st</td>\n",
              "      <td>2.0000</td>\n",
              "      <td>female</td>\n",
              "    </tr>\n",
              "    <tr>\n",
              "      <th>2</th>\n",
              "      <td>1st</td>\n",
              "      <td>30.0000</td>\n",
              "      <td>male</td>\n",
              "    </tr>\n",
              "    <tr>\n",
              "      <th>3</th>\n",
              "      <td>1st</td>\n",
              "      <td>25.0000</td>\n",
              "      <td>female</td>\n",
              "    </tr>\n",
              "    <tr>\n",
              "      <th>4</th>\n",
              "      <td>1st</td>\n",
              "      <td>0.9167</td>\n",
              "      <td>male</td>\n",
              "    </tr>\n",
              "  </tbody>\n",
              "</table>\n",
              "</div>"
            ],
            "text/plain": [
              "  pclass      age     sex\n",
              "0    1st  29.0000  female\n",
              "1    1st   2.0000  female\n",
              "2    1st  30.0000    male\n",
              "3    1st  25.0000  female\n",
              "4    1st   0.9167    male"
            ]
          },
          "metadata": {
            "tags": []
          },
          "execution_count": 19
        }
      ]
    },
    {
      "cell_type": "code",
      "metadata": {
        "id": "Zpj0WCtHKIfV"
      },
      "source": [
        "y=titanic[['survived']]"
      ],
      "execution_count": null,
      "outputs": []
    },
    {
      "cell_type": "code",
      "metadata": {
        "id": "V2X3h2l7KWyl",
        "colab": {
          "base_uri": "https://localhost:8080/",
          "height": 204
        },
        "outputId": "4630f190-df63-4b4f-e9e2-c993d7df1386"
      },
      "source": [
        "y.head()"
      ],
      "execution_count": null,
      "outputs": [
        {
          "output_type": "execute_result",
          "data": {
            "text/html": [
              "<div>\n",
              "<style scoped>\n",
              "    .dataframe tbody tr th:only-of-type {\n",
              "        vertical-align: middle;\n",
              "    }\n",
              "\n",
              "    .dataframe tbody tr th {\n",
              "        vertical-align: top;\n",
              "    }\n",
              "\n",
              "    .dataframe thead th {\n",
              "        text-align: right;\n",
              "    }\n",
              "</style>\n",
              "<table border=\"1\" class=\"dataframe\">\n",
              "  <thead>\n",
              "    <tr style=\"text-align: right;\">\n",
              "      <th></th>\n",
              "      <th>survived</th>\n",
              "    </tr>\n",
              "  </thead>\n",
              "  <tbody>\n",
              "    <tr>\n",
              "      <th>0</th>\n",
              "      <td>1</td>\n",
              "    </tr>\n",
              "    <tr>\n",
              "      <th>1</th>\n",
              "      <td>0</td>\n",
              "    </tr>\n",
              "    <tr>\n",
              "      <th>2</th>\n",
              "      <td>0</td>\n",
              "    </tr>\n",
              "    <tr>\n",
              "      <th>3</th>\n",
              "      <td>0</td>\n",
              "    </tr>\n",
              "    <tr>\n",
              "      <th>4</th>\n",
              "      <td>1</td>\n",
              "    </tr>\n",
              "  </tbody>\n",
              "</table>\n",
              "</div>"
            ],
            "text/plain": [
              "   survived\n",
              "0         1\n",
              "1         0\n",
              "2         0\n",
              "3         0\n",
              "4         1"
            ]
          },
          "metadata": {
            "tags": []
          },
          "execution_count": 24
        }
      ]
    },
    {
      "cell_type": "markdown",
      "metadata": {
        "id": "1EAmBP80TDYE"
      },
      "source": [
        "# 3. 將資料進一步切割成訓練集, 和測試集"
      ]
    },
    {
      "cell_type": "code",
      "metadata": {
        "id": "BynqhgmKKXxF"
      },
      "source": [
        "from sklearn.model_selection import train_test_split"
      ],
      "execution_count": null,
      "outputs": []
    },
    {
      "cell_type": "code",
      "metadata": {
        "id": "RdnQfPcTTgOe"
      },
      "source": [
        ""
      ],
      "execution_count": null,
      "outputs": []
    }
  ]
}
