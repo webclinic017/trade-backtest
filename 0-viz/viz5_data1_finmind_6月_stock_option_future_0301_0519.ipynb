{
  "nbformat": 4,
  "nbformat_minor": 0,
  "metadata": {
    "colab": {
      "provenance": [],
      "include_colab_link": true
    },
    "kernelspec": {
      "name": "python3",
      "display_name": "Python 3"
    },
    "language_info": {
      "name": "python"
    }
  },
  "cells": [
    {
      "cell_type": "markdown",
      "metadata": {
        "id": "view-in-github",
        "colab_type": "text"
      },
      "source": [
        "<a href=\"https://colab.research.google.com/github/tewei0328/trade-backtest/blob/main/0-viz/viz5_data1_finmind_6%E6%9C%88_stock_option_future_0301_0519.ipynb\" target=\"_parent\"><img src=\"https://colab.research.google.com/assets/colab-badge.svg\" alt=\"Open In Colab\"/></a>"
      ]
    },
    {
      "cell_type": "markdown",
      "source": [
        "## [Day 14] 回測分析\n",
        "### 從零開始的套牢生活 - AI股票預測系統 系列 第 14 篇\n",
        "https://ithelp.ithome.com.tw/m/articles/10267871?fbclid=IwAR0GdoJVPIJ6VfcSdAfJzWAgHoaYahPsyBVIAY9NzjhNIfmmWHfsKYJC7Os"
      ],
      "metadata": {
        "id": "psCEkWof8sYR"
      }
    },
    {
      "cell_type": "markdown",
      "metadata": {
        "id": "tW7M3llEmDBE"
      },
      "source": [
        "# 引入函式庫"
      ]
    },
    {
      "cell_type": "code",
      "metadata": {
        "id": "70ZmoB6Ul9Bp"
      },
      "source": [
        "# ! pip install backtesting\n",
        "import datetime\n",
        "import warnings\n",
        "\n",
        "import pandas as pd\n",
        "import requests\n",
        "#from backtesting import Backtest, Strategy\n",
        "#from backtesting.lib import crossover\n",
        "#from backtesting.test import SMA\n",
        "#from pandas.core.common import SettingWithCopyWarning\n",
        "\n",
        "#warnings.simplefilter(action=\"ignore\", category=SettingWithCopyWarning)\n",
        "pd.set_option(\"display.max_columns\", None)\n"
      ],
      "execution_count": 1,
      "outputs": []
    },
    {
      "cell_type": "markdown",
      "source": [
        "# ***1.設定日期範圍***"
      ],
      "metadata": {
        "id": "ZfadplSIGd0a"
      }
    },
    {
      "cell_type": "code",
      "source": [
        "start_date = datetime.datetime(2023, 3, 1, 0, 0).strftime(\"%Y-%m-%d\")\n",
        "end_date = datetime.datetime(2023, 5, 17, 0, 0).strftime(\"%Y-%m-%d\")"
      ],
      "metadata": {
        "id": "yjti3OeGC72b"
      },
      "execution_count": 2,
      "outputs": []
    },
    {
      "cell_type": "markdown",
      "metadata": {
        "id": "J88iUXKnmCbh"
      },
      "source": [
        "# 取得資料\n",
        "backtesting強制要求欄位名稱格式，\n",
        "所以需要先轉換欄位名稱"
      ]
    },
    {
      "cell_type": "markdown",
      "source": [
        "https://finmindtrade.com/analysis/#/data/document"
      ],
      "metadata": {
        "id": "CTYwdFc78A69"
      }
    },
    {
      "cell_type": "markdown",
      "source": [
        "## 1-股票"
      ],
      "metadata": {
        "id": "NbQxmqU0_Bv5"
      }
    },
    {
      "cell_type": "code",
      "source": [
        "stock_index = '0050'\n",
        "url = \"https://api.finmindtrade.com/api/v4/data\"\n",
        "parameter = {\n",
        "    \"dataset\": \"TaiwanStockPrice\",\n",
        "    \"start_date\": start_date,\n",
        "    \"end_date\": end_date,\n",
        "    \"data_id\": stock_index,\n",
        "}\n",
        "\n",
        "data = requests.get(url, params=parameter)\n",
        "data = data.json()\n",
        "\n"
      ],
      "metadata": {
        "id": "3Wdu0uwdDLxJ"
      },
      "execution_count": 3,
      "outputs": []
    },
    {
      "cell_type": "code",
      "source": [
        "#data"
      ],
      "metadata": {
        "id": "fOKVkWEwBiBD"
      },
      "execution_count": 4,
      "outputs": []
    },
    {
      "cell_type": "code",
      "source": [
        "df1 = pd.DataFrame(data[\"data\"])\n",
        "\n",
        "df1.index = pd.to_datetime(df1[\"date\"])\n",
        "df1.rename(\n",
        "    columns={\n",
        "        \"Trading_Volume\": \"Volume\",\n",
        "        \"open\": \"Open\",\n",
        "        \"max\": \"High\",\n",
        "        \"min\": \"Low\",\n",
        "        \"close\": \"Close\",\n",
        "    },\n",
        "    inplace=True,\n",
        ")\n",
        "\n",
        "df1.drop(\n",
        "    columns=[\"stock_id\", \"date\", \"Trading_money\", \"spread\", \"Trading_turnover\"],\n",
        "    inplace=True,\n",
        ")\n",
        "\n",
        "#df1"
      ],
      "metadata": {
        "id": "AOXGOw_rBfd9"
      },
      "execution_count": 5,
      "outputs": []
    },
    {
      "cell_type": "code",
      "source": [
        "df1.head()"
      ],
      "metadata": {
        "colab": {
          "base_uri": "https://localhost:8080/",
          "height": 237
        },
        "id": "GCDLsHRvPtZL",
        "outputId": "9035e33f-480e-4e80-c76b-2f138c037ad2"
      },
      "execution_count": 6,
      "outputs": [
        {
          "output_type": "execute_result",
          "data": {
            "text/plain": [
              "             Volume    Open    High     Low   Close\n",
              "date                                               \n",
              "2023-03-01  7996077  117.30  119.45  116.85  119.35\n",
              "2023-03-02  3750827  119.35  119.35  118.30  119.25\n",
              "2023-03-03  3341290  119.80  120.10  119.20  119.35\n",
              "2023-03-06  9805282  120.15  120.90  119.90  120.50\n",
              "2023-03-07  7894646  120.55  121.40  120.20  121.30"
            ],
            "text/html": [
              "\n",
              "  <div id=\"df-20cda2b8-266a-449d-a7ce-458cc83c946e\">\n",
              "    <div class=\"colab-df-container\">\n",
              "      <div>\n",
              "<style scoped>\n",
              "    .dataframe tbody tr th:only-of-type {\n",
              "        vertical-align: middle;\n",
              "    }\n",
              "\n",
              "    .dataframe tbody tr th {\n",
              "        vertical-align: top;\n",
              "    }\n",
              "\n",
              "    .dataframe thead th {\n",
              "        text-align: right;\n",
              "    }\n",
              "</style>\n",
              "<table border=\"1\" class=\"dataframe\">\n",
              "  <thead>\n",
              "    <tr style=\"text-align: right;\">\n",
              "      <th></th>\n",
              "      <th>Volume</th>\n",
              "      <th>Open</th>\n",
              "      <th>High</th>\n",
              "      <th>Low</th>\n",
              "      <th>Close</th>\n",
              "    </tr>\n",
              "    <tr>\n",
              "      <th>date</th>\n",
              "      <th></th>\n",
              "      <th></th>\n",
              "      <th></th>\n",
              "      <th></th>\n",
              "      <th></th>\n",
              "    </tr>\n",
              "  </thead>\n",
              "  <tbody>\n",
              "    <tr>\n",
              "      <th>2023-03-01</th>\n",
              "      <td>7996077</td>\n",
              "      <td>117.30</td>\n",
              "      <td>119.45</td>\n",
              "      <td>116.85</td>\n",
              "      <td>119.35</td>\n",
              "    </tr>\n",
              "    <tr>\n",
              "      <th>2023-03-02</th>\n",
              "      <td>3750827</td>\n",
              "      <td>119.35</td>\n",
              "      <td>119.35</td>\n",
              "      <td>118.30</td>\n",
              "      <td>119.25</td>\n",
              "    </tr>\n",
              "    <tr>\n",
              "      <th>2023-03-03</th>\n",
              "      <td>3341290</td>\n",
              "      <td>119.80</td>\n",
              "      <td>120.10</td>\n",
              "      <td>119.20</td>\n",
              "      <td>119.35</td>\n",
              "    </tr>\n",
              "    <tr>\n",
              "      <th>2023-03-06</th>\n",
              "      <td>9805282</td>\n",
              "      <td>120.15</td>\n",
              "      <td>120.90</td>\n",
              "      <td>119.90</td>\n",
              "      <td>120.50</td>\n",
              "    </tr>\n",
              "    <tr>\n",
              "      <th>2023-03-07</th>\n",
              "      <td>7894646</td>\n",
              "      <td>120.55</td>\n",
              "      <td>121.40</td>\n",
              "      <td>120.20</td>\n",
              "      <td>121.30</td>\n",
              "    </tr>\n",
              "  </tbody>\n",
              "</table>\n",
              "</div>\n",
              "      <button class=\"colab-df-convert\" onclick=\"convertToInteractive('df-20cda2b8-266a-449d-a7ce-458cc83c946e')\"\n",
              "              title=\"Convert this dataframe to an interactive table.\"\n",
              "              style=\"display:none;\">\n",
              "        \n",
              "  <svg xmlns=\"http://www.w3.org/2000/svg\" height=\"24px\"viewBox=\"0 0 24 24\"\n",
              "       width=\"24px\">\n",
              "    <path d=\"M0 0h24v24H0V0z\" fill=\"none\"/>\n",
              "    <path d=\"M18.56 5.44l.94 2.06.94-2.06 2.06-.94-2.06-.94-.94-2.06-.94 2.06-2.06.94zm-11 1L8.5 8.5l.94-2.06 2.06-.94-2.06-.94L8.5 2.5l-.94 2.06-2.06.94zm10 10l.94 2.06.94-2.06 2.06-.94-2.06-.94-.94-2.06-.94 2.06-2.06.94z\"/><path d=\"M17.41 7.96l-1.37-1.37c-.4-.4-.92-.59-1.43-.59-.52 0-1.04.2-1.43.59L10.3 9.45l-7.72 7.72c-.78.78-.78 2.05 0 2.83L4 21.41c.39.39.9.59 1.41.59.51 0 1.02-.2 1.41-.59l7.78-7.78 2.81-2.81c.8-.78.8-2.07 0-2.86zM5.41 20L4 18.59l7.72-7.72 1.47 1.35L5.41 20z\"/>\n",
              "  </svg>\n",
              "      </button>\n",
              "      \n",
              "  <style>\n",
              "    .colab-df-container {\n",
              "      display:flex;\n",
              "      flex-wrap:wrap;\n",
              "      gap: 12px;\n",
              "    }\n",
              "\n",
              "    .colab-df-convert {\n",
              "      background-color: #E8F0FE;\n",
              "      border: none;\n",
              "      border-radius: 50%;\n",
              "      cursor: pointer;\n",
              "      display: none;\n",
              "      fill: #1967D2;\n",
              "      height: 32px;\n",
              "      padding: 0 0 0 0;\n",
              "      width: 32px;\n",
              "    }\n",
              "\n",
              "    .colab-df-convert:hover {\n",
              "      background-color: #E2EBFA;\n",
              "      box-shadow: 0px 1px 2px rgba(60, 64, 67, 0.3), 0px 1px 3px 1px rgba(60, 64, 67, 0.15);\n",
              "      fill: #174EA6;\n",
              "    }\n",
              "\n",
              "    [theme=dark] .colab-df-convert {\n",
              "      background-color: #3B4455;\n",
              "      fill: #D2E3FC;\n",
              "    }\n",
              "\n",
              "    [theme=dark] .colab-df-convert:hover {\n",
              "      background-color: #434B5C;\n",
              "      box-shadow: 0px 1px 3px 1px rgba(0, 0, 0, 0.15);\n",
              "      filter: drop-shadow(0px 1px 2px rgba(0, 0, 0, 0.3));\n",
              "      fill: #FFFFFF;\n",
              "    }\n",
              "  </style>\n",
              "\n",
              "      <script>\n",
              "        const buttonEl =\n",
              "          document.querySelector('#df-20cda2b8-266a-449d-a7ce-458cc83c946e button.colab-df-convert');\n",
              "        buttonEl.style.display =\n",
              "          google.colab.kernel.accessAllowed ? 'block' : 'none';\n",
              "\n",
              "        async function convertToInteractive(key) {\n",
              "          const element = document.querySelector('#df-20cda2b8-266a-449d-a7ce-458cc83c946e');\n",
              "          const dataTable =\n",
              "            await google.colab.kernel.invokeFunction('convertToInteractive',\n",
              "                                                     [key], {});\n",
              "          if (!dataTable) return;\n",
              "\n",
              "          const docLinkHtml = 'Like what you see? Visit the ' +\n",
              "            '<a target=\"_blank\" href=https://colab.research.google.com/notebooks/data_table.ipynb>data table notebook</a>'\n",
              "            + ' to learn more about interactive tables.';\n",
              "          element.innerHTML = '';\n",
              "          dataTable['output_type'] = 'display_data';\n",
              "          await google.colab.output.renderOutput(dataTable, element);\n",
              "          const docLink = document.createElement('div');\n",
              "          docLink.innerHTML = docLinkHtml;\n",
              "          element.appendChild(docLink);\n",
              "        }\n",
              "      </script>\n",
              "    </div>\n",
              "  </div>\n",
              "  "
            ]
          },
          "metadata": {},
          "execution_count": 6
        }
      ]
    },
    {
      "cell_type": "code",
      "source": [
        "df1['Close'].plot()"
      ],
      "metadata": {
        "colab": {
          "base_uri": "https://localhost:8080/",
          "height": 462
        },
        "id": "572ynKW0Pzcx",
        "outputId": "3f61f1b4-f72d-4527-c17c-eff56a10299a"
      },
      "execution_count": 7,
      "outputs": [
        {
          "output_type": "execute_result",
          "data": {
            "text/plain": [
              "<Axes: xlabel='date'>"
            ]
          },
          "metadata": {},
          "execution_count": 7
        },
        {
          "output_type": "display_data",
          "data": {
            "text/plain": [
              "<Figure size 640x480 with 1 Axes>"
            ],
            "image/png": "[encoded data removed]"
          },
          "metadata": {}
        }
      ]
    },
    {
      "cell_type": "markdown",
      "source": [
        "## FinMind API 使用說明\n",
        "https://finmindtrade.com/analysis/#/data/api\n",
        "\n",
        "## 選擇權日夜盤成交資訊，包含到期月份、開高低收、漲跌幅、交易量、結算價格。\n",
        "https://finmindtrade.com/analysis/#/data/document"
      ],
      "metadata": {
        "id": "BsjUOmTy74ym"
      }
    },
    {
      "cell_type": "code",
      "source": [],
      "metadata": {
        "id": "CSHPY9yiPxLg"
      },
      "execution_count": 7,
      "outputs": []
    },
    {
      "cell_type": "markdown",
      "source": [
        "## 2-選擇權"
      ],
      "metadata": {
        "id": "0qtTvdXi_Lq2"
      }
    },
    {
      "cell_type": "code",
      "source": [
        "stock_index = \"TXO\"\n",
        "url = \"https://api.finmindtrade.com/api/v4/data\"\n",
        "parameter = {\n",
        "    \"dataset\": \"TaiwanOptionDaily\",\n",
        "    \"start_date\": start_date,\n",
        "    \"end_date\": end_date,\n",
        "    \"data_id\": stock_index,\n",
        "}\n",
        "\n",
        "data = requests.get(url, params=parameter)\n",
        "data = data.json()\n"
      ],
      "metadata": {
        "id": "1kboKVfU-I9E"
      },
      "execution_count": 8,
      "outputs": []
    },
    {
      "cell_type": "code",
      "source": [
        "#data"
      ],
      "metadata": {
        "id": "Iz2r8fkW-yuM"
      },
      "execution_count": 9,
      "outputs": []
    },
    {
      "cell_type": "code",
      "source": [
        "df = pd.DataFrame(data[\"data\"])\n",
        "df.head()"
      ],
      "metadata": {
        "colab": {
          "base_uri": "https://localhost:8080/",
          "height": 206
        },
        "id": "IpjxCCKY-91t",
        "outputId": "6644a5e6-10a4-4a20-b951-5bf0cf9daf03"
      },
      "execution_count": 10,
      "outputs": [
        {
          "output_type": "execute_result",
          "data": {
            "text/plain": [
              "         date option_id contract_date  strike_price call_put  open  max  min  \\\n",
              "0  2023-03-01       TXO      202303W1       13800.0     call   0.0  0.0  0.0   \n",
              "1  2023-03-01       TXO      202303W1       13800.0     call   0.0  0.0  0.0   \n",
              "2  2023-03-01       TXO      202303W1       13800.0      put   0.2  0.2  0.2   \n",
              "3  2023-03-01       TXO      202303W1       13800.0      put   0.0  0.0  0.0   \n",
              "4  2023-03-01       TXO      202303W1       13900.0     call   0.0  0.0  0.0   \n",
              "\n",
              "   close  volume  settlement_price  open_interest trading_session  \n",
              "0    0.0       0               0.0              0        position  \n",
              "1    0.0       0               0.0              0    after_market  \n",
              "2    0.2       1               0.0             83        position  \n",
              "3    0.0       0               0.0              0    after_market  \n",
              "4    0.0       0               0.0              1        position  "
            ],
            "text/html": [
              "\n",
              "  <div id=\"df-8140d2df-4d27-4d9b-b6df-1f64d35b051e\">\n",
              "    <div class=\"colab-df-container\">\n",
              "      <div>\n",
              "<style scoped>\n",
              "    .dataframe tbody tr th:only-of-type {\n",
              "        vertical-align: middle;\n",
              "    }\n",
              "\n",
              "    .dataframe tbody tr th {\n",
              "        vertical-align: top;\n",
              "    }\n",
              "\n",
              "    .dataframe thead th {\n",
              "        text-align: right;\n",
              "    }\n",
              "</style>\n",
              "<table border=\"1\" class=\"dataframe\">\n",
              "  <thead>\n",
              "    <tr style=\"text-align: right;\">\n",
              "      <th></th>\n",
              "      <th>date</th>\n",
              "      <th>option_id</th>\n",
              "      <th>contract_date</th>\n",
              "      <th>strike_price</th>\n",
              "      <th>call_put</th>\n",
              "      <th>open</th>\n",
              "      <th>max</th>\n",
              "      <th>min</th>\n",
              "      <th>close</th>\n",
              "      <th>volume</th>\n",
              "      <th>settlement_price</th>\n",
              "      <th>open_interest</th>\n",
              "      <th>trading_session</th>\n",
              "    </tr>\n",
              "  </thead>\n",
              "  <tbody>\n",
              "    <tr>\n",
              "      <th>0</th>\n",
              "      <td>2023-03-01</td>\n",
              "      <td>TXO</td>\n",
              "      <td>202303W1</td>\n",
              "      <td>13800.0</td>\n",
              "      <td>call</td>\n",
              "      <td>0.0</td>\n",
              "      <td>0.0</td>\n",
              "      <td>0.0</td>\n",
              "      <td>0.0</td>\n",
              "      <td>0</td>\n",
              "      <td>0.0</td>\n",
              "      <td>0</td>\n",
              "      <td>position</td>\n",
              "    </tr>\n",
              "    <tr>\n",
              "      <th>1</th>\n",
              "      <td>2023-03-01</td>\n",
              "      <td>TXO</td>\n",
              "      <td>202303W1</td>\n",
              "      <td>13800.0</td>\n",
              "      <td>call</td>\n",
              "      <td>0.0</td>\n",
              "      <td>0.0</td>\n",
              "      <td>0.0</td>\n",
              "      <td>0.0</td>\n",
              "      <td>0</td>\n",
              "      <td>0.0</td>\n",
              "      <td>0</td>\n",
              "      <td>after_market</td>\n",
              "    </tr>\n",
              "    <tr>\n",
              "      <th>2</th>\n",
              "      <td>2023-03-01</td>\n",
              "      <td>TXO</td>\n",
              "      <td>202303W1</td>\n",
              "      <td>13800.0</td>\n",
              "      <td>put</td>\n",
              "      <td>0.2</td>\n",
              "      <td>0.2</td>\n",
              "      <td>0.2</td>\n",
              "      <td>0.2</td>\n",
              "      <td>1</td>\n",
              "      <td>0.0</td>\n",
              "      <td>83</td>\n",
              "      <td>position</td>\n",
              "    </tr>\n",
              "    <tr>\n",
              "      <th>3</th>\n",
              "      <td>2023-03-01</td>\n",
              "      <td>TXO</td>\n",
              "      <td>202303W1</td>\n",
              "      <td>13800.0</td>\n",
              "      <td>put</td>\n",
              "      <td>0.0</td>\n",
              "      <td>0.0</td>\n",
              "      <td>0.0</td>\n",
              "      <td>0.0</td>\n",
              "      <td>0</td>\n",
              "      <td>0.0</td>\n",
              "      <td>0</td>\n",
              "      <td>after_market</td>\n",
              "    </tr>\n",
              "    <tr>\n",
              "      <th>4</th>\n",
              "      <td>2023-03-01</td>\n",
              "      <td>TXO</td>\n",
              "      <td>202303W1</td>\n",
              "      <td>13900.0</td>\n",
              "      <td>call</td>\n",
              "      <td>0.0</td>\n",
              "      <td>0.0</td>\n",
              "      <td>0.0</td>\n",
              "      <td>0.0</td>\n",
              "      <td>0</td>\n",
              "      <td>0.0</td>\n",
              "      <td>1</td>\n",
              "      <td>position</td>\n",
              "    </tr>\n",
              "  </tbody>\n",
              "</table>\n",
              "</div>\n",
              "      <button class=\"colab-df-convert\" onclick=\"convertToInteractive('df-8140d2df-4d27-4d9b-b6df-1f64d35b051e')\"\n",
              "              title=\"Convert this dataframe to an interactive table.\"\n",
              "              style=\"display:none;\">\n",
              "        \n",
              "  <svg xmlns=\"http://www.w3.org/2000/svg\" height=\"24px\"viewBox=\"0 0 24 24\"\n",
              "       width=\"24px\">\n",
              "    <path d=\"M0 0h24v24H0V0z\" fill=\"none\"/>\n",
              "    <path d=\"M18.56 5.44l.94 2.06.94-2.06 2.06-.94-2.06-.94-.94-2.06-.94 2.06-2.06.94zm-11 1L8.5 8.5l.94-2.06 2.06-.94-2.06-.94L8.5 2.5l-.94 2.06-2.06.94zm10 10l.94 2.06.94-2.06 2.06-.94-2.06-.94-.94-2.06-.94 2.06-2.06.94z\"/><path d=\"M17.41 7.96l-1.37-1.37c-.4-.4-.92-.59-1.43-.59-.52 0-1.04.2-1.43.59L10.3 9.45l-7.72 7.72c-.78.78-.78 2.05 0 2.83L4 21.41c.39.39.9.59 1.41.59.51 0 1.02-.2 1.41-.59l7.78-7.78 2.81-2.81c.8-.78.8-2.07 0-2.86zM5.41 20L4 18.59l7.72-7.72 1.47 1.35L5.41 20z\"/>\n",
              "  </svg>\n",
              "      </button>\n",
              "      \n",
              "  <style>\n",
              "    .colab-df-container {\n",
              "      display:flex;\n",
              "      flex-wrap:wrap;\n",
              "      gap: 12px;\n",
              "    }\n",
              "\n",
              "    .colab-df-convert {\n",
              "      background-color: #E8F0FE;\n",
              "      border: none;\n",
              "      border-radius: 50%;\n",
              "      cursor: pointer;\n",
              "      display: none;\n",
              "      fill: #1967D2;\n",
              "      height: 32px;\n",
              "      padding: 0 0 0 0;\n",
              "      width: 32px;\n",
              "    }\n",
              "\n",
              "    .colab-df-convert:hover {\n",
              "      background-color: #E2EBFA;\n",
              "      box-shadow: 0px 1px 2px rgba(60, 64, 67, 0.3), 0px 1px 3px 1px rgba(60, 64, 67, 0.15);\n",
              "      fill: #174EA6;\n",
              "    }\n",
              "\n",
              "    [theme=dark] .colab-df-convert {\n",
              "      background-color: #3B4455;\n",
              "      fill: #D2E3FC;\n",
              "    }\n",
              "\n",
              "    [theme=dark] .colab-df-convert:hover {\n",
              "      background-color: #434B5C;\n",
              "      box-shadow: 0px 1px 3px 1px rgba(0, 0, 0, 0.15);\n",
              "      filter: drop-shadow(0px 1px 2px rgba(0, 0, 0, 0.3));\n",
              "      fill: #FFFFFF;\n",
              "    }\n",
              "  </style>\n",
              "\n",
              "      <script>\n",
              "        const buttonEl =\n",
              "          document.querySelector('#df-8140d2df-4d27-4d9b-b6df-1f64d35b051e button.colab-df-convert');\n",
              "        buttonEl.style.display =\n",
              "          google.colab.kernel.accessAllowed ? 'block' : 'none';\n",
              "\n",
              "        async function convertToInteractive(key) {\n",
              "          const element = document.querySelector('#df-8140d2df-4d27-4d9b-b6df-1f64d35b051e');\n",
              "          const dataTable =\n",
              "            await google.colab.kernel.invokeFunction('convertToInteractive',\n",
              "                                                     [key], {});\n",
              "          if (!dataTable) return;\n",
              "\n",
              "          const docLinkHtml = 'Like what you see? Visit the ' +\n",
              "            '<a target=\"_blank\" href=https://colab.research.google.com/notebooks/data_table.ipynb>data table notebook</a>'\n",
              "            + ' to learn more about interactive tables.';\n",
              "          element.innerHTML = '';\n",
              "          dataTable['output_type'] = 'display_data';\n",
              "          await google.colab.output.renderOutput(dataTable, element);\n",
              "          const docLink = document.createElement('div');\n",
              "          docLink.innerHTML = docLinkHtml;\n",
              "          element.appendChild(docLink);\n",
              "        }\n",
              "      </script>\n",
              "    </div>\n",
              "  </div>\n",
              "  "
            ]
          },
          "metadata": {},
          "execution_count": 10
        }
      ]
    },
    {
      "cell_type": "code",
      "source": [
        "df = pd.DataFrame(data[\"data\"])\n",
        "\n",
        "df.index = pd.to_datetime(df[\"date\"])\n",
        "df.rename(\n",
        "    columns={\n",
        "        \"open\": \"Open\",\n",
        "        \"max\": \"High\",\n",
        "        \"min\": \"Low\",\n",
        "        \"close\": \"Close\",\n",
        "    },\n",
        "    inplace=True,\n",
        ")\n",
        "\n",
        "df.drop(\n",
        "    #columns=[\"option_id\", \"date\", \"settlement_price\", \"open_interest\", \"trading_session\"],\n",
        "    columns=[\"option_id\", \"date\", \"settlement_price\", \"open_interest\"],\n",
        "    inplace=True,\n",
        ")\n",
        "\n",
        "#df"
      ],
      "metadata": {
        "id": "DTiDRSMy-vRm"
      },
      "execution_count": 11,
      "outputs": []
    },
    {
      "cell_type": "code",
      "source": [
        "def get_options(option_df, contract_period, put_or_call, strike_price, trade_period):\n",
        "    \n",
        "    option_df = df.loc[(df['contract_date'] == contract_period) & \\\n",
        "                       (df['call_put'] == put_or_call) & \\\n",
        "                       (df['strike_price'] == strike_price) & \\\n",
        "                       (df['trading_session'] == trade_period) ]\n",
        "    return option_df"
      ],
      "metadata": {
        "id": "E_m3rs3F9iH7"
      },
      "execution_count": 12,
      "outputs": []
    },
    {
      "cell_type": "markdown",
      "source": [
        "# ***2-1.設定選擇權商品1***"
      ],
      "metadata": {
        "id": "aTjNaRBIG39B"
      }
    },
    {
      "cell_type": "code",
      "source": [
        "df2=get_options(df, '202306', 'call', 16000, 'position')"
      ],
      "metadata": {
        "id": "tLVq3ysY9z-Y"
      },
      "execution_count": 13,
      "outputs": []
    },
    {
      "cell_type": "code",
      "source": [
        "df2.head()"
      ],
      "metadata": {
        "colab": {
          "base_uri": "https://localhost:8080/",
          "height": 237
        },
        "id": "j6OS5mqCQMJS",
        "outputId": "f23942d5-f04f-4ecc-b880-37d8ff647bae"
      },
      "execution_count": 14,
      "outputs": [
        {
          "output_type": "execute_result",
          "data": {
            "text/plain": [
              "           contract_date  strike_price call_put   Open   High    Low  Close  \\\n",
              "date                                                                          \n",
              "2023-03-01        202306       16000.0     call  293.0  317.0  293.0  317.0   \n",
              "2023-03-02        202306       16000.0     call  288.0  288.0  288.0  288.0   \n",
              "2023-03-03        202306       16000.0     call  327.0  327.0  327.0  327.0   \n",
              "2023-03-06        202306       16000.0     call  380.0  403.0  380.0  396.0   \n",
              "2023-03-07        202306       16000.0     call    0.0    0.0    0.0    0.0   \n",
              "\n",
              "            volume trading_session  \n",
              "date                                \n",
              "2023-03-01       3        position  \n",
              "2023-03-02       1        position  \n",
              "2023-03-03       1        position  \n",
              "2023-03-06      10        position  \n",
              "2023-03-07       0        position  "
            ],
            "text/html": [
              "\n",
              "  <div id=\"df-24611084-891b-4dfc-ad9b-8dae299256fc\">\n",
              "    <div class=\"colab-df-container\">\n",
              "      <div>\n",
              "<style scoped>\n",
              "    .dataframe tbody tr th:only-of-type {\n",
              "        vertical-align: middle;\n",
              "    }\n",
              "\n",
              "    .dataframe tbody tr th {\n",
              "        vertical-align: top;\n",
              "    }\n",
              "\n",
              "    .dataframe thead th {\n",
              "        text-align: right;\n",
              "    }\n",
              "</style>\n",
              "<table border=\"1\" class=\"dataframe\">\n",
              "  <thead>\n",
              "    <tr style=\"text-align: right;\">\n",
              "      <th></th>\n",
              "      <th>contract_date</th>\n",
              "      <th>strike_price</th>\n",
              "      <th>call_put</th>\n",
              "      <th>Open</th>\n",
              "      <th>High</th>\n",
              "      <th>Low</th>\n",
              "      <th>Close</th>\n",
              "      <th>volume</th>\n",
              "      <th>trading_session</th>\n",
              "    </tr>\n",
              "    <tr>\n",
              "      <th>date</th>\n",
              "      <th></th>\n",
              "      <th></th>\n",
              "      <th></th>\n",
              "      <th></th>\n",
              "      <th></th>\n",
              "      <th></th>\n",
              "      <th></th>\n",
              "      <th></th>\n",
              "      <th></th>\n",
              "    </tr>\n",
              "  </thead>\n",
              "  <tbody>\n",
              "    <tr>\n",
              "      <th>2023-03-01</th>\n",
              "      <td>202306</td>\n",
              "      <td>16000.0</td>\n",
              "      <td>call</td>\n",
              "      <td>293.0</td>\n",
              "      <td>317.0</td>\n",
              "      <td>293.0</td>\n",
              "      <td>317.0</td>\n",
              "      <td>3</td>\n",
              "      <td>position</td>\n",
              "    </tr>\n",
              "    <tr>\n",
              "      <th>2023-03-02</th>\n",
              "      <td>202306</td>\n",
              "      <td>16000.0</td>\n",
              "      <td>call</td>\n",
              "      <td>288.0</td>\n",
              "      <td>288.0</td>\n",
              "      <td>288.0</td>\n",
              "      <td>288.0</td>\n",
              "      <td>1</td>\n",
              "      <td>position</td>\n",
              "    </tr>\n",
              "    <tr>\n",
              "      <th>2023-03-03</th>\n",
              "      <td>202306</td>\n",
              "      <td>16000.0</td>\n",
              "      <td>call</td>\n",
              "      <td>327.0</td>\n",
              "      <td>327.0</td>\n",
              "      <td>327.0</td>\n",
              "      <td>327.0</td>\n",
              "      <td>1</td>\n",
              "      <td>position</td>\n",
              "    </tr>\n",
              "    <tr>\n",
              "      <th>2023-03-06</th>\n",
              "      <td>202306</td>\n",
              "      <td>16000.0</td>\n",
              "      <td>call</td>\n",
              "      <td>380.0</td>\n",
              "      <td>403.0</td>\n",
              "      <td>380.0</td>\n",
              "      <td>396.0</td>\n",
              "      <td>10</td>\n",
              "      <td>position</td>\n",
              "    </tr>\n",
              "    <tr>\n",
              "      <th>2023-03-07</th>\n",
              "      <td>202306</td>\n",
              "      <td>16000.0</td>\n",
              "      <td>call</td>\n",
              "      <td>0.0</td>\n",
              "      <td>0.0</td>\n",
              "      <td>0.0</td>\n",
              "      <td>0.0</td>\n",
              "      <td>0</td>\n",
              "      <td>position</td>\n",
              "    </tr>\n",
              "  </tbody>\n",
              "</table>\n",
              "</div>\n",
              "      <button class=\"colab-df-convert\" onclick=\"convertToInteractive('df-24611084-891b-4dfc-ad9b-8dae299256fc')\"\n",
              "              title=\"Convert this dataframe to an interactive table.\"\n",
              "              style=\"display:none;\">\n",
              "        \n",
              "  <svg xmlns=\"http://www.w3.org/2000/svg\" height=\"24px\"viewBox=\"0 0 24 24\"\n",
              "       width=\"24px\">\n",
              "    <path d=\"M0 0h24v24H0V0z\" fill=\"none\"/>\n",
              "    <path d=\"M18.56 5.44l.94 2.06.94-2.06 2.06-.94-2.06-.94-.94-2.06-.94 2.06-2.06.94zm-11 1L8.5 8.5l.94-2.06 2.06-.94-2.06-.94L8.5 2.5l-.94 2.06-2.06.94zm10 10l.94 2.06.94-2.06 2.06-.94-2.06-.94-.94-2.06-.94 2.06-2.06.94z\"/><path d=\"M17.41 7.96l-1.37-1.37c-.4-.4-.92-.59-1.43-.59-.52 0-1.04.2-1.43.59L10.3 9.45l-7.72 7.72c-.78.78-.78 2.05 0 2.83L4 21.41c.39.39.9.59 1.41.59.51 0 1.02-.2 1.41-.59l7.78-7.78 2.81-2.81c.8-.78.8-2.07 0-2.86zM5.41 20L4 18.59l7.72-7.72 1.47 1.35L5.41 20z\"/>\n",
              "  </svg>\n",
              "      </button>\n",
              "      \n",
              "  <style>\n",
              "    .colab-df-container {\n",
              "      display:flex;\n",
              "      flex-wrap:wrap;\n",
              "      gap: 12px;\n",
              "    }\n",
              "\n",
              "    .colab-df-convert {\n",
              "      background-color: #E8F0FE;\n",
              "      border: none;\n",
              "      border-radius: 50%;\n",
              "      cursor: pointer;\n",
              "      display: none;\n",
              "      fill: #1967D2;\n",
              "      height: 32px;\n",
              "      padding: 0 0 0 0;\n",
              "      width: 32px;\n",
              "    }\n",
              "\n",
              "    .colab-df-convert:hover {\n",
              "      background-color: #E2EBFA;\n",
              "      box-shadow: 0px 1px 2px rgba(60, 64, 67, 0.3), 0px 1px 3px 1px rgba(60, 64, 67, 0.15);\n",
              "      fill: #174EA6;\n",
              "    }\n",
              "\n",
              "    [theme=dark] .colab-df-convert {\n",
              "      background-color: #3B4455;\n",
              "      fill: #D2E3FC;\n",
              "    }\n",
              "\n",
              "    [theme=dark] .colab-df-convert:hover {\n",
              "      background-color: #434B5C;\n",
              "      box-shadow: 0px 1px 3px 1px rgba(0, 0, 0, 0.15);\n",
              "      filter: drop-shadow(0px 1px 2px rgba(0, 0, 0, 0.3));\n",
              "      fill: #FFFFFF;\n",
              "    }\n",
              "  </style>\n",
              "\n",
              "      <script>\n",
              "        const buttonEl =\n",
              "          document.querySelector('#df-24611084-891b-4dfc-ad9b-8dae299256fc button.colab-df-convert');\n",
              "        buttonEl.style.display =\n",
              "          google.colab.kernel.accessAllowed ? 'block' : 'none';\n",
              "\n",
              "        async function convertToInteractive(key) {\n",
              "          const element = document.querySelector('#df-24611084-891b-4dfc-ad9b-8dae299256fc');\n",
              "          const dataTable =\n",
              "            await google.colab.kernel.invokeFunction('convertToInteractive',\n",
              "                                                     [key], {});\n",
              "          if (!dataTable) return;\n",
              "\n",
              "          const docLinkHtml = 'Like what you see? Visit the ' +\n",
              "            '<a target=\"_blank\" href=https://colab.research.google.com/notebooks/data_table.ipynb>data table notebook</a>'\n",
              "            + ' to learn more about interactive tables.';\n",
              "          element.innerHTML = '';\n",
              "          dataTable['output_type'] = 'display_data';\n",
              "          await google.colab.output.renderOutput(dataTable, element);\n",
              "          const docLink = document.createElement('div');\n",
              "          docLink.innerHTML = docLinkHtml;\n",
              "          element.appendChild(docLink);\n",
              "        }\n",
              "      </script>\n",
              "    </div>\n",
              "  </div>\n",
              "  "
            ]
          },
          "metadata": {},
          "execution_count": 14
        }
      ]
    },
    {
      "cell_type": "code",
      "source": [
        "df2['Close'].plot()"
      ],
      "metadata": {
        "colab": {
          "base_uri": "https://localhost:8080/",
          "height": 462
        },
        "id": "hLVHM5kIQOUx",
        "outputId": "84b2e8b2-d734-47bd-9865-75c65542ef2d"
      },
      "execution_count": 15,
      "outputs": [
        {
          "output_type": "execute_result",
          "data": {
            "text/plain": [
              "<Axes: xlabel='date'>"
            ]
          },
          "metadata": {},
          "execution_count": 15
        },
        {
          "output_type": "display_data",
          "data": {
            "text/plain": [
              "<Figure size 640x480 with 1 Axes>"
            ],
            "image/png": "[encoded data removed]"
          },
          "metadata": {}
        }
      ]
    },
    {
      "cell_type": "markdown",
      "source": [
        "# ***2-2.設定選擇權商品2***"
      ],
      "metadata": {
        "id": "0Nzj3tWKHFY_"
      }
    },
    {
      "cell_type": "code",
      "source": [
        "df4=get_options(df, '202306', 'put', 15000, 'position')"
      ],
      "metadata": {
        "id": "OgEZSkpzFPf3"
      },
      "execution_count": 16,
      "outputs": []
    },
    {
      "cell_type": "code",
      "source": [
        "df4.head()"
      ],
      "metadata": {
        "id": "B0YSVwXAFXN3",
        "outputId": "a332a25e-7445-4598-d7e2-e3759bdc8cd6",
        "colab": {
          "base_uri": "https://localhost:8080/",
          "height": 237
        }
      },
      "execution_count": 17,
      "outputs": [
        {
          "output_type": "execute_result",
          "data": {
            "text/plain": [
              "           contract_date  strike_price call_put   Open   High    Low  Close  \\\n",
              "date                                                                          \n",
              "2023-03-01        202306       15000.0      put  400.0  400.0  400.0  400.0   \n",
              "2023-03-02        202306       15000.0      put    0.0    0.0    0.0    0.0   \n",
              "2023-03-03        202306       15000.0      put  360.0  360.0  360.0  360.0   \n",
              "2023-03-06        202306       15000.0      put  322.0  322.0  297.0  307.0   \n",
              "2023-03-07        202306       15000.0      put  307.0  307.0  270.0  270.0   \n",
              "\n",
              "            volume trading_session  \n",
              "date                                \n",
              "2023-03-01       1        position  \n",
              "2023-03-02       0        position  \n",
              "2023-03-03       1        position  \n",
              "2023-03-06      64        position  \n",
              "2023-03-07       7        position  "
            ],
            "text/html": [
              "\n",
              "  <div id=\"df-a10d2bad-e6b7-4462-be3f-49be3331eb7c\">\n",
              "    <div class=\"colab-df-container\">\n",
              "      <div>\n",
              "<style scoped>\n",
              "    .dataframe tbody tr th:only-of-type {\n",
              "        vertical-align: middle;\n",
              "    }\n",
              "\n",
              "    .dataframe tbody tr th {\n",
              "        vertical-align: top;\n",
              "    }\n",
              "\n",
              "    .dataframe thead th {\n",
              "        text-align: right;\n",
              "    }\n",
              "</style>\n",
              "<table border=\"1\" class=\"dataframe\">\n",
              "  <thead>\n",
              "    <tr style=\"text-align: right;\">\n",
              "      <th></th>\n",
              "      <th>contract_date</th>\n",
              "      <th>strike_price</th>\n",
              "      <th>call_put</th>\n",
              "      <th>Open</th>\n",
              "      <th>High</th>\n",
              "      <th>Low</th>\n",
              "      <th>Close</th>\n",
              "      <th>volume</th>\n",
              "      <th>trading_session</th>\n",
              "    </tr>\n",
              "    <tr>\n",
              "      <th>date</th>\n",
              "      <th></th>\n",
              "      <th></th>\n",
              "      <th></th>\n",
              "      <th></th>\n",
              "      <th></th>\n",
              "      <th></th>\n",
              "      <th></th>\n",
              "      <th></th>\n",
              "      <th></th>\n",
              "    </tr>\n",
              "  </thead>\n",
              "  <tbody>\n",
              "    <tr>\n",
              "      <th>2023-03-01</th>\n",
              "      <td>202306</td>\n",
              "      <td>15000.0</td>\n",
              "      <td>put</td>\n",
              "      <td>400.0</td>\n",
              "      <td>400.0</td>\n",
              "      <td>400.0</td>\n",
              "      <td>400.0</td>\n",
              "      <td>1</td>\n",
              "      <td>position</td>\n",
              "    </tr>\n",
              "    <tr>\n",
              "      <th>2023-03-02</th>\n",
              "      <td>202306</td>\n",
              "      <td>15000.0</td>\n",
              "      <td>put</td>\n",
              "      <td>0.0</td>\n",
              "      <td>0.0</td>\n",
              "      <td>0.0</td>\n",
              "      <td>0.0</td>\n",
              "      <td>0</td>\n",
              "      <td>position</td>\n",
              "    </tr>\n",
              "    <tr>\n",
              "      <th>2023-03-03</th>\n",
              "      <td>202306</td>\n",
              "      <td>15000.0</td>\n",
              "      <td>put</td>\n",
              "      <td>360.0</td>\n",
              "      <td>360.0</td>\n",
              "      <td>360.0</td>\n",
              "      <td>360.0</td>\n",
              "      <td>1</td>\n",
              "      <td>position</td>\n",
              "    </tr>\n",
              "    <tr>\n",
              "      <th>2023-03-06</th>\n",
              "      <td>202306</td>\n",
              "      <td>15000.0</td>\n",
              "      <td>put</td>\n",
              "      <td>322.0</td>\n",
              "      <td>322.0</td>\n",
              "      <td>297.0</td>\n",
              "      <td>307.0</td>\n",
              "      <td>64</td>\n",
              "      <td>position</td>\n",
              "    </tr>\n",
              "    <tr>\n",
              "      <th>2023-03-07</th>\n",
              "      <td>202306</td>\n",
              "      <td>15000.0</td>\n",
              "      <td>put</td>\n",
              "      <td>307.0</td>\n",
              "      <td>307.0</td>\n",
              "      <td>270.0</td>\n",
              "      <td>270.0</td>\n",
              "      <td>7</td>\n",
              "      <td>position</td>\n",
              "    </tr>\n",
              "  </tbody>\n",
              "</table>\n",
              "</div>\n",
              "      <button class=\"colab-df-convert\" onclick=\"convertToInteractive('df-a10d2bad-e6b7-4462-be3f-49be3331eb7c')\"\n",
              "              title=\"Convert this dataframe to an interactive table.\"\n",
              "              style=\"display:none;\">\n",
              "        \n",
              "  <svg xmlns=\"http://www.w3.org/2000/svg\" height=\"24px\"viewBox=\"0 0 24 24\"\n",
              "       width=\"24px\">\n",
              "    <path d=\"M0 0h24v24H0V0z\" fill=\"none\"/>\n",
              "    <path d=\"M18.56 5.44l.94 2.06.94-2.06 2.06-.94-2.06-.94-.94-2.06-.94 2.06-2.06.94zm-11 1L8.5 8.5l.94-2.06 2.06-.94-2.06-.94L8.5 2.5l-.94 2.06-2.06.94zm10 10l.94 2.06.94-2.06 2.06-.94-2.06-.94-.94-2.06-.94 2.06-2.06.94z\"/><path d=\"M17.41 7.96l-1.37-1.37c-.4-.4-.92-.59-1.43-.59-.52 0-1.04.2-1.43.59L10.3 9.45l-7.72 7.72c-.78.78-.78 2.05 0 2.83L4 21.41c.39.39.9.59 1.41.59.51 0 1.02-.2 1.41-.59l7.78-7.78 2.81-2.81c.8-.78.8-2.07 0-2.86zM5.41 20L4 18.59l7.72-7.72 1.47 1.35L5.41 20z\"/>\n",
              "  </svg>\n",
              "      </button>\n",
              "      \n",
              "  <style>\n",
              "    .colab-df-container {\n",
              "      display:flex;\n",
              "      flex-wrap:wrap;\n",
              "      gap: 12px;\n",
              "    }\n",
              "\n",
              "    .colab-df-convert {\n",
              "      background-color: #E8F0FE;\n",
              "      border: none;\n",
              "      border-radius: 50%;\n",
              "      cursor: pointer;\n",
              "      display: none;\n",
              "      fill: #1967D2;\n",
              "      height: 32px;\n",
              "      padding: 0 0 0 0;\n",
              "      width: 32px;\n",
              "    }\n",
              "\n",
              "    .colab-df-convert:hover {\n",
              "      background-color: #E2EBFA;\n",
              "      box-shadow: 0px 1px 2px rgba(60, 64, 67, 0.3), 0px 1px 3px 1px rgba(60, 64, 67, 0.15);\n",
              "      fill: #174EA6;\n",
              "    }\n",
              "\n",
              "    [theme=dark] .colab-df-convert {\n",
              "      background-color: #3B4455;\n",
              "      fill: #D2E3FC;\n",
              "    }\n",
              "\n",
              "    [theme=dark] .colab-df-convert:hover {\n",
              "      background-color: #434B5C;\n",
              "      box-shadow: 0px 1px 3px 1px rgba(0, 0, 0, 0.15);\n",
              "      filter: drop-shadow(0px 1px 2px rgba(0, 0, 0, 0.3));\n",
              "      fill: #FFFFFF;\n",
              "    }\n",
              "  </style>\n",
              "\n",
              "      <script>\n",
              "        const buttonEl =\n",
              "          document.querySelector('#df-a10d2bad-e6b7-4462-be3f-49be3331eb7c button.colab-df-convert');\n",
              "        buttonEl.style.display =\n",
              "          google.colab.kernel.accessAllowed ? 'block' : 'none';\n",
              "\n",
              "        async function convertToInteractive(key) {\n",
              "          const element = document.querySelector('#df-a10d2bad-e6b7-4462-be3f-49be3331eb7c');\n",
              "          const dataTable =\n",
              "            await google.colab.kernel.invokeFunction('convertToInteractive',\n",
              "                                                     [key], {});\n",
              "          if (!dataTable) return;\n",
              "\n",
              "          const docLinkHtml = 'Like what you see? Visit the ' +\n",
              "            '<a target=\"_blank\" href=https://colab.research.google.com/notebooks/data_table.ipynb>data table notebook</a>'\n",
              "            + ' to learn more about interactive tables.';\n",
              "          element.innerHTML = '';\n",
              "          dataTable['output_type'] = 'display_data';\n",
              "          await google.colab.output.renderOutput(dataTable, element);\n",
              "          const docLink = document.createElement('div');\n",
              "          docLink.innerHTML = docLinkHtml;\n",
              "          element.appendChild(docLink);\n",
              "        }\n",
              "      </script>\n",
              "    </div>\n",
              "  </div>\n",
              "  "
            ]
          },
          "metadata": {},
          "execution_count": 17
        }
      ]
    },
    {
      "cell_type": "code",
      "source": [
        "df4['Close'].plot()"
      ],
      "metadata": {
        "id": "sMHZjpYlFXQ_",
        "outputId": "b3ef1c39-54e8-47d6-833f-76e7e5ba1767",
        "colab": {
          "base_uri": "https://localhost:8080/",
          "height": 462
        }
      },
      "execution_count": 18,
      "outputs": [
        {
          "output_type": "execute_result",
          "data": {
            "text/plain": [
              "<Axes: xlabel='date'>"
            ]
          },
          "metadata": {},
          "execution_count": 18
        },
        {
          "output_type": "display_data",
          "data": {
            "text/plain": [
              "<Figure size 640x480 with 1 Axes>"
            ],
            "image/png": "[encoded data removed]"
          },
          "metadata": {}
        }
      ]
    },
    {
      "cell_type": "markdown",
      "source": [
        "## 3-期貨"
      ],
      "metadata": {
        "id": "eS2LaDxp74vg"
      }
    },
    {
      "cell_type": "markdown",
      "source": [
        "## 期貨日成交資訊\n",
        "https://finmindtrade.com/analysis/#/data/api"
      ],
      "metadata": {
        "id": "7UOrMHuB742m"
      }
    },
    {
      "cell_type": "code",
      "source": [
        "stock_index = \"TX\"\n",
        "url = \"https://api.finmindtrade.com/api/v4/data\"\n",
        "parameter = {\n",
        "    \"dataset\": \"TaiwanFuturesDaily\",\n",
        "    \"start_date\": start_date,\n",
        "    \"end_date\": end_date,\n",
        "    \"data_id\": stock_index,\n",
        "}\n",
        "\n",
        "data = requests.get(url, params=parameter)\n",
        "data = data.json()\n"
      ],
      "metadata": {
        "id": "4WH72TxuO2NS"
      },
      "execution_count": 19,
      "outputs": []
    },
    {
      "cell_type": "code",
      "source": [
        "#data"
      ],
      "metadata": {
        "id": "CLxxnSHTPvg6"
      },
      "execution_count": 20,
      "outputs": []
    },
    {
      "cell_type": "code",
      "source": [
        "df = pd.DataFrame(data[\"data\"])\n",
        "df.index = pd.to_datetime(df[\"date\"])\n",
        "df.head()"
      ],
      "metadata": {
        "id": "wLO8AVHtP26T",
        "colab": {
          "base_uri": "https://localhost:8080/",
          "height": 368
        },
        "outputId": "2f5b09fe-6f11-4246-8d2c-b9342dadb011"
      },
      "execution_count": 21,
      "outputs": [
        {
          "output_type": "execute_result",
          "data": {
            "text/plain": [
              "                  date futures_id contract_date     open      max      min  \\\n",
              "date                                                                         \n",
              "2023-03-01  2023-03-01         TX        202303  15381.0  15555.0  15333.0   \n",
              "2023-03-01  2023-03-01         TX        202303  15540.0  15541.0  15391.0   \n",
              "2023-03-01  2023-03-01         TX        202304  15320.0  15519.0  15305.0   \n",
              "2023-03-01  2023-03-01         TX        202304  15500.0  15500.0  15360.0   \n",
              "2023-03-01  2023-03-01         TX        202305  15300.0  15500.0  15299.0   \n",
              "\n",
              "              close  spread  spread_per  volume  settlement_price  \\\n",
              "date                                                                \n",
              "2023-03-01  15544.0     3.0        0.02   82601           15546.0   \n",
              "2023-03-01  15441.0  -100.0       -0.64   45956               0.0   \n",
              "2023-03-01  15510.0     4.0        0.03    1271           15510.0   \n",
              "2023-03-01  15404.0  -102.0       -0.66     746               0.0   \n",
              "2023-03-01  15495.0     0.0        0.00      93           15495.0   \n",
              "\n",
              "            open_interest trading_session  \n",
              "date                                       \n",
              "2023-03-01          69008        position  \n",
              "2023-03-01              0    after_market  \n",
              "2023-03-01           2963        position  \n",
              "2023-03-01              0    after_market  \n",
              "2023-03-01            343        position  "
            ],
            "text/html": [
              "\n",
              "  <div id=\"df-6ded51f6-ed68-469b-a02c-814878347a1c\">\n",
              "    <div class=\"colab-df-container\">\n",
              "      <div>\n",
              "<style scoped>\n",
              "    .dataframe tbody tr th:only-of-type {\n",
              "        vertical-align: middle;\n",
              "    }\n",
              "\n",
              "    .dataframe tbody tr th {\n",
              "        vertical-align: top;\n",
              "    }\n",
              "\n",
              "    .dataframe thead th {\n",
              "        text-align: right;\n",
              "    }\n",
              "</style>\n",
              "<table border=\"1\" class=\"dataframe\">\n",
              "  <thead>\n",
              "    <tr style=\"text-align: right;\">\n",
              "      <th></th>\n",
              "      <th>date</th>\n",
              "      <th>futures_id</th>\n",
              "      <th>contract_date</th>\n",
              "      <th>open</th>\n",
              "      <th>max</th>\n",
              "      <th>min</th>\n",
              "      <th>close</th>\n",
              "      <th>spread</th>\n",
              "      <th>spread_per</th>\n",
              "      <th>volume</th>\n",
              "      <th>settlement_price</th>\n",
              "      <th>open_interest</th>\n",
              "      <th>trading_session</th>\n",
              "    </tr>\n",
              "    <tr>\n",
              "      <th>date</th>\n",
              "      <th></th>\n",
              "      <th></th>\n",
              "      <th></th>\n",
              "      <th></th>\n",
              "      <th></th>\n",
              "      <th></th>\n",
              "      <th></th>\n",
              "      <th></th>\n",
              "      <th></th>\n",
              "      <th></th>\n",
              "      <th></th>\n",
              "      <th></th>\n",
              "      <th></th>\n",
              "    </tr>\n",
              "  </thead>\n",
              "  <tbody>\n",
              "    <tr>\n",
              "      <th>2023-03-01</th>\n",
              "      <td>2023-03-01</td>\n",
              "      <td>TX</td>\n",
              "      <td>202303</td>\n",
              "      <td>15381.0</td>\n",
              "      <td>15555.0</td>\n",
              "      <td>15333.0</td>\n",
              "      <td>15544.0</td>\n",
              "      <td>3.0</td>\n",
              "      <td>0.02</td>\n",
              "      <td>82601</td>\n",
              "      <td>15546.0</td>\n",
              "      <td>69008</td>\n",
              "      <td>position</td>\n",
              "    </tr>\n",
              "    <tr>\n",
              "      <th>2023-03-01</th>\n",
              "      <td>2023-03-01</td>\n",
              "      <td>TX</td>\n",
              "      <td>202303</td>\n",
              "      <td>15540.0</td>\n",
              "      <td>15541.0</td>\n",
              "      <td>15391.0</td>\n",
              "      <td>15441.0</td>\n",
              "      <td>-100.0</td>\n",
              "      <td>-0.64</td>\n",
              "      <td>45956</td>\n",
              "      <td>0.0</td>\n",
              "      <td>0</td>\n",
              "      <td>after_market</td>\n",
              "    </tr>\n",
              "    <tr>\n",
              "      <th>2023-03-01</th>\n",
              "      <td>2023-03-01</td>\n",
              "      <td>TX</td>\n",
              "      <td>202304</td>\n",
              "      <td>15320.0</td>\n",
              "      <td>15519.0</td>\n",
              "      <td>15305.0</td>\n",
              "      <td>15510.0</td>\n",
              "      <td>4.0</td>\n",
              "      <td>0.03</td>\n",
              "      <td>1271</td>\n",
              "      <td>15510.0</td>\n",
              "      <td>2963</td>\n",
              "      <td>position</td>\n",
              "    </tr>\n",
              "    <tr>\n",
              "      <th>2023-03-01</th>\n",
              "      <td>2023-03-01</td>\n",
              "      <td>TX</td>\n",
              "      <td>202304</td>\n",
              "      <td>15500.0</td>\n",
              "      <td>15500.0</td>\n",
              "      <td>15360.0</td>\n",
              "      <td>15404.0</td>\n",
              "      <td>-102.0</td>\n",
              "      <td>-0.66</td>\n",
              "      <td>746</td>\n",
              "      <td>0.0</td>\n",
              "      <td>0</td>\n",
              "      <td>after_market</td>\n",
              "    </tr>\n",
              "    <tr>\n",
              "      <th>2023-03-01</th>\n",
              "      <td>2023-03-01</td>\n",
              "      <td>TX</td>\n",
              "      <td>202305</td>\n",
              "      <td>15300.0</td>\n",
              "      <td>15500.0</td>\n",
              "      <td>15299.0</td>\n",
              "      <td>15495.0</td>\n",
              "      <td>0.0</td>\n",
              "      <td>0.00</td>\n",
              "      <td>93</td>\n",
              "      <td>15495.0</td>\n",
              "      <td>343</td>\n",
              "      <td>position</td>\n",
              "    </tr>\n",
              "  </tbody>\n",
              "</table>\n",
              "</div>\n",
              "      <button class=\"colab-df-convert\" onclick=\"convertToInteractive('df-6ded51f6-ed68-469b-a02c-814878347a1c')\"\n",
              "              title=\"Convert this dataframe to an interactive table.\"\n",
              "              style=\"display:none;\">\n",
              "        \n",
              "  <svg xmlns=\"http://www.w3.org/2000/svg\" height=\"24px\"viewBox=\"0 0 24 24\"\n",
              "       width=\"24px\">\n",
              "    <path d=\"M0 0h24v24H0V0z\" fill=\"none\"/>\n",
              "    <path d=\"M18.56 5.44l.94 2.06.94-2.06 2.06-.94-2.06-.94-.94-2.06-.94 2.06-2.06.94zm-11 1L8.5 8.5l.94-2.06 2.06-.94-2.06-.94L8.5 2.5l-.94 2.06-2.06.94zm10 10l.94 2.06.94-2.06 2.06-.94-2.06-.94-.94-2.06-.94 2.06-2.06.94z\"/><path d=\"M17.41 7.96l-1.37-1.37c-.4-.4-.92-.59-1.43-.59-.52 0-1.04.2-1.43.59L10.3 9.45l-7.72 7.72c-.78.78-.78 2.05 0 2.83L4 21.41c.39.39.9.59 1.41.59.51 0 1.02-.2 1.41-.59l7.78-7.78 2.81-2.81c.8-.78.8-2.07 0-2.86zM5.41 20L4 18.59l7.72-7.72 1.47 1.35L5.41 20z\"/>\n",
              "  </svg>\n",
              "      </button>\n",
              "      \n",
              "  <style>\n",
              "    .colab-df-container {\n",
              "      display:flex;\n",
              "      flex-wrap:wrap;\n",
              "      gap: 12px;\n",
              "    }\n",
              "\n",
              "    .colab-df-convert {\n",
              "      background-color: #E8F0FE;\n",
              "      border: none;\n",
              "      border-radius: 50%;\n",
              "      cursor: pointer;\n",
              "      display: none;\n",
              "      fill: #1967D2;\n",
              "      height: 32px;\n",
              "      padding: 0 0 0 0;\n",
              "      width: 32px;\n",
              "    }\n",
              "\n",
              "    .colab-df-convert:hover {\n",
              "      background-color: #E2EBFA;\n",
              "      box-shadow: 0px 1px 2px rgba(60, 64, 67, 0.3), 0px 1px 3px 1px rgba(60, 64, 67, 0.15);\n",
              "      fill: #174EA6;\n",
              "    }\n",
              "\n",
              "    [theme=dark] .colab-df-convert {\n",
              "      background-color: #3B4455;\n",
              "      fill: #D2E3FC;\n",
              "    }\n",
              "\n",
              "    [theme=dark] .colab-df-convert:hover {\n",
              "      background-color: #434B5C;\n",
              "      box-shadow: 0px 1px 3px 1px rgba(0, 0, 0, 0.15);\n",
              "      filter: drop-shadow(0px 1px 2px rgba(0, 0, 0, 0.3));\n",
              "      fill: #FFFFFF;\n",
              "    }\n",
              "  </style>\n",
              "\n",
              "      <script>\n",
              "        const buttonEl =\n",
              "          document.querySelector('#df-6ded51f6-ed68-469b-a02c-814878347a1c button.colab-df-convert');\n",
              "        buttonEl.style.display =\n",
              "          google.colab.kernel.accessAllowed ? 'block' : 'none';\n",
              "\n",
              "        async function convertToInteractive(key) {\n",
              "          const element = document.querySelector('#df-6ded51f6-ed68-469b-a02c-814878347a1c');\n",
              "          const dataTable =\n",
              "            await google.colab.kernel.invokeFunction('convertToInteractive',\n",
              "                                                     [key], {});\n",
              "          if (!dataTable) return;\n",
              "\n",
              "          const docLinkHtml = 'Like what you see? Visit the ' +\n",
              "            '<a target=\"_blank\" href=https://colab.research.google.com/notebooks/data_table.ipynb>data table notebook</a>'\n",
              "            + ' to learn more about interactive tables.';\n",
              "          element.innerHTML = '';\n",
              "          dataTable['output_type'] = 'display_data';\n",
              "          await google.colab.output.renderOutput(dataTable, element);\n",
              "          const docLink = document.createElement('div');\n",
              "          docLink.innerHTML = docLinkHtml;\n",
              "          element.appendChild(docLink);\n",
              "        }\n",
              "      </script>\n",
              "    </div>\n",
              "  </div>\n",
              "  "
            ]
          },
          "metadata": {},
          "execution_count": 21
        }
      ]
    },
    {
      "cell_type": "code",
      "source": [
        "def get_futures(option_df, contract_period, trading_session):\n",
        "    \n",
        "    option_df = df.loc[(df['contract_date'] == contract_period) & \\\n",
        "                       (df['trading_session'] == trading_session) ]\n",
        "    return option_df"
      ],
      "metadata": {
        "id": "4siirIwQ_qMF"
      },
      "execution_count": 22,
      "outputs": []
    },
    {
      "cell_type": "markdown",
      "source": [
        "# ***3.設定期貨商品***"
      ],
      "metadata": {
        "id": "oT5EOkk8HS55"
      }
    },
    {
      "cell_type": "code",
      "source": [
        "df3=get_futures(df, '202306', 'position')"
      ],
      "metadata": {
        "id": "iEvVl9HI_684"
      },
      "execution_count": 23,
      "outputs": []
    },
    {
      "cell_type": "code",
      "source": [
        "df3.head()"
      ],
      "metadata": {
        "colab": {
          "base_uri": "https://localhost:8080/",
          "height": 368
        },
        "id": "yTzTZ-zUQdfA",
        "outputId": "89dca326-674c-4923-c471-d71fc6fcc6e1"
      },
      "execution_count": 24,
      "outputs": [
        {
          "output_type": "execute_result",
          "data": {
            "text/plain": [
              "                  date futures_id contract_date     open      max      min  \\\n",
              "date                                                                         \n",
              "2023-03-01  2023-03-01         TX        202306  15266.0  15450.0  15263.0   \n",
              "2023-03-02  2023-03-02         TX        202306  15520.0  15520.0  15386.0   \n",
              "2023-03-03  2023-03-03         TX        202306  15525.0  15563.0  15495.0   \n",
              "2023-03-06  2023-03-06         TX        202306  15609.0  15734.0  15606.0   \n",
              "2023-03-07  2023-03-07         TX        202306  15670.0  15793.0  15655.0   \n",
              "\n",
              "              close  spread  spread_per  volume  settlement_price  \\\n",
              "date                                                                \n",
              "2023-03-01  15450.0     0.0        0.00      33           15450.0   \n",
              "2023-03-02  15472.0    22.0        0.14      28           15446.0   \n",
              "2023-03-03  15537.0    91.0        0.59      21           15520.0   \n",
              "2023-03-06  15661.0   141.0        0.91      85           15675.0   \n",
              "2023-03-07  15779.0   104.0        0.66      60           15779.0   \n",
              "\n",
              "            open_interest trading_session  \n",
              "date                                       \n",
              "2023-03-01            618        position  \n",
              "2023-03-02            631        position  \n",
              "2023-03-03            653        position  \n",
              "2023-03-06            679        position  \n",
              "2023-03-07            692        position  "
            ],
            "text/html": [
              "\n",
              "  <div id=\"df-c836dfc4-4778-4c76-87d4-5a302bf19691\">\n",
              "    <div class=\"colab-df-container\">\n",
              "      <div>\n",
              "<style scoped>\n",
              "    .dataframe tbody tr th:only-of-type {\n",
              "        vertical-align: middle;\n",
              "    }\n",
              "\n",
              "    .dataframe tbody tr th {\n",
              "        vertical-align: top;\n",
              "    }\n",
              "\n",
              "    .dataframe thead th {\n",
              "        text-align: right;\n",
              "    }\n",
              "</style>\n",
              "<table border=\"1\" class=\"dataframe\">\n",
              "  <thead>\n",
              "    <tr style=\"text-align: right;\">\n",
              "      <th></th>\n",
              "      <th>date</th>\n",
              "      <th>futures_id</th>\n",
              "      <th>contract_date</th>\n",
              "      <th>open</th>\n",
              "      <th>max</th>\n",
              "      <th>min</th>\n",
              "      <th>close</th>\n",
              "      <th>spread</th>\n",
              "      <th>spread_per</th>\n",
              "      <th>volume</th>\n",
              "      <th>settlement_price</th>\n",
              "      <th>open_interest</th>\n",
              "      <th>trading_session</th>\n",
              "    </tr>\n",
              "    <tr>\n",
              "      <th>date</th>\n",
              "      <th></th>\n",
              "      <th></th>\n",
              "      <th></th>\n",
              "      <th></th>\n",
              "      <th></th>\n",
              "      <th></th>\n",
              "      <th></th>\n",
              "      <th></th>\n",
              "      <th></th>\n",
              "      <th></th>\n",
              "      <th></th>\n",
              "      <th></th>\n",
              "      <th></th>\n",
              "    </tr>\n",
              "  </thead>\n",
              "  <tbody>\n",
              "    <tr>\n",
              "      <th>2023-03-01</th>\n",
              "      <td>2023-03-01</td>\n",
              "      <td>TX</td>\n",
              "      <td>202306</td>\n",
              "      <td>15266.0</td>\n",
              "      <td>15450.0</td>\n",
              "      <td>15263.0</td>\n",
              "      <td>15450.0</td>\n",
              "      <td>0.0</td>\n",
              "      <td>0.00</td>\n",
              "      <td>33</td>\n",
              "      <td>15450.0</td>\n",
              "      <td>618</td>\n",
              "      <td>position</td>\n",
              "    </tr>\n",
              "    <tr>\n",
              "      <th>2023-03-02</th>\n",
              "      <td>2023-03-02</td>\n",
              "      <td>TX</td>\n",
              "      <td>202306</td>\n",
              "      <td>15520.0</td>\n",
              "      <td>15520.0</td>\n",
              "      <td>15386.0</td>\n",
              "      <td>15472.0</td>\n",
              "      <td>22.0</td>\n",
              "      <td>0.14</td>\n",
              "      <td>28</td>\n",
              "      <td>15446.0</td>\n",
              "      <td>631</td>\n",
              "      <td>position</td>\n",
              "    </tr>\n",
              "    <tr>\n",
              "      <th>2023-03-03</th>\n",
              "      <td>2023-03-03</td>\n",
              "      <td>TX</td>\n",
              "      <td>202306</td>\n",
              "      <td>15525.0</td>\n",
              "      <td>15563.0</td>\n",
              "      <td>15495.0</td>\n",
              "      <td>15537.0</td>\n",
              "      <td>91.0</td>\n",
              "      <td>0.59</td>\n",
              "      <td>21</td>\n",
              "      <td>15520.0</td>\n",
              "      <td>653</td>\n",
              "      <td>position</td>\n",
              "    </tr>\n",
              "    <tr>\n",
              "      <th>2023-03-06</th>\n",
              "      <td>2023-03-06</td>\n",
              "      <td>TX</td>\n",
              "      <td>202306</td>\n",
              "      <td>15609.0</td>\n",
              "      <td>15734.0</td>\n",
              "      <td>15606.0</td>\n",
              "      <td>15661.0</td>\n",
              "      <td>141.0</td>\n",
              "      <td>0.91</td>\n",
              "      <td>85</td>\n",
              "      <td>15675.0</td>\n",
              "      <td>679</td>\n",
              "      <td>position</td>\n",
              "    </tr>\n",
              "    <tr>\n",
              "      <th>2023-03-07</th>\n",
              "      <td>2023-03-07</td>\n",
              "      <td>TX</td>\n",
              "      <td>202306</td>\n",
              "      <td>15670.0</td>\n",
              "      <td>15793.0</td>\n",
              "      <td>15655.0</td>\n",
              "      <td>15779.0</td>\n",
              "      <td>104.0</td>\n",
              "      <td>0.66</td>\n",
              "      <td>60</td>\n",
              "      <td>15779.0</td>\n",
              "      <td>692</td>\n",
              "      <td>position</td>\n",
              "    </tr>\n",
              "  </tbody>\n",
              "</table>\n",
              "</div>\n",
              "      <button class=\"colab-df-convert\" onclick=\"convertToInteractive('df-c836dfc4-4778-4c76-87d4-5a302bf19691')\"\n",
              "              title=\"Convert this dataframe to an interactive table.\"\n",
              "              style=\"display:none;\">\n",
              "        \n",
              "  <svg xmlns=\"http://www.w3.org/2000/svg\" height=\"24px\"viewBox=\"0 0 24 24\"\n",
              "       width=\"24px\">\n",
              "    <path d=\"M0 0h24v24H0V0z\" fill=\"none\"/>\n",
              "    <path d=\"M18.56 5.44l.94 2.06.94-2.06 2.06-.94-2.06-.94-.94-2.06-.94 2.06-2.06.94zm-11 1L8.5 8.5l.94-2.06 2.06-.94-2.06-.94L8.5 2.5l-.94 2.06-2.06.94zm10 10l.94 2.06.94-2.06 2.06-.94-2.06-.94-.94-2.06-.94 2.06-2.06.94z\"/><path d=\"M17.41 7.96l-1.37-1.37c-.4-.4-.92-.59-1.43-.59-.52 0-1.04.2-1.43.59L10.3 9.45l-7.72 7.72c-.78.78-.78 2.05 0 2.83L4 21.41c.39.39.9.59 1.41.59.51 0 1.02-.2 1.41-.59l7.78-7.78 2.81-2.81c.8-.78.8-2.07 0-2.86zM5.41 20L4 18.59l7.72-7.72 1.47 1.35L5.41 20z\"/>\n",
              "  </svg>\n",
              "      </button>\n",
              "      \n",
              "  <style>\n",
              "    .colab-df-container {\n",
              "      display:flex;\n",
              "      flex-wrap:wrap;\n",
              "      gap: 12px;\n",
              "    }\n",
              "\n",
              "    .colab-df-convert {\n",
              "      background-color: #E8F0FE;\n",
              "      border: none;\n",
              "      border-radius: 50%;\n",
              "      cursor: pointer;\n",
              "      display: none;\n",
              "      fill: #1967D2;\n",
              "      height: 32px;\n",
              "      padding: 0 0 0 0;\n",
              "      width: 32px;\n",
              "    }\n",
              "\n",
              "    .colab-df-convert:hover {\n",
              "      background-color: #E2EBFA;\n",
              "      box-shadow: 0px 1px 2px rgba(60, 64, 67, 0.3), 0px 1px 3px 1px rgba(60, 64, 67, 0.15);\n",
              "      fill: #174EA6;\n",
              "    }\n",
              "\n",
              "    [theme=dark] .colab-df-convert {\n",
              "      background-color: #3B4455;\n",
              "      fill: #D2E3FC;\n",
              "    }\n",
              "\n",
              "    [theme=dark] .colab-df-convert:hover {\n",
              "      background-color: #434B5C;\n",
              "      box-shadow: 0px 1px 3px 1px rgba(0, 0, 0, 0.15);\n",
              "      filter: drop-shadow(0px 1px 2px rgba(0, 0, 0, 0.3));\n",
              "      fill: #FFFFFF;\n",
              "    }\n",
              "  </style>\n",
              "\n",
              "      <script>\n",
              "        const buttonEl =\n",
              "          document.querySelector('#df-c836dfc4-4778-4c76-87d4-5a302bf19691 button.colab-df-convert');\n",
              "        buttonEl.style.display =\n",
              "          google.colab.kernel.accessAllowed ? 'block' : 'none';\n",
              "\n",
              "        async function convertToInteractive(key) {\n",
              "          const element = document.querySelector('#df-c836dfc4-4778-4c76-87d4-5a302bf19691');\n",
              "          const dataTable =\n",
              "            await google.colab.kernel.invokeFunction('convertToInteractive',\n",
              "                                                     [key], {});\n",
              "          if (!dataTable) return;\n",
              "\n",
              "          const docLinkHtml = 'Like what you see? Visit the ' +\n",
              "            '<a target=\"_blank\" href=https://colab.research.google.com/notebooks/data_table.ipynb>data table notebook</a>'\n",
              "            + ' to learn more about interactive tables.';\n",
              "          element.innerHTML = '';\n",
              "          dataTable['output_type'] = 'display_data';\n",
              "          await google.colab.output.renderOutput(dataTable, element);\n",
              "          const docLink = document.createElement('div');\n",
              "          docLink.innerHTML = docLinkHtml;\n",
              "          element.appendChild(docLink);\n",
              "        }\n",
              "      </script>\n",
              "    </div>\n",
              "  </div>\n",
              "  "
            ]
          },
          "metadata": {},
          "execution_count": 24
        }
      ]
    },
    {
      "cell_type": "code",
      "source": [
        "df3['close'].plot()"
      ],
      "metadata": {
        "colab": {
          "base_uri": "https://localhost:8080/",
          "height": 462
        },
        "id": "msvJWFumQf_5",
        "outputId": "557f7ec0-7535-4d52-8f01-31b0c79038ec"
      },
      "execution_count": 25,
      "outputs": [
        {
          "output_type": "execute_result",
          "data": {
            "text/plain": [
              "<Axes: xlabel='date'>"
            ]
          },
          "metadata": {},
          "execution_count": 25
        },
        {
          "output_type": "display_data",
          "data": {
            "text/plain": [
              "<Figure size 640x480 with 1 Axes>"
            ],
            "image/png": "[encoded data removed]"
          },
          "metadata": {}
        }
      ]
    },
    {
      "cell_type": "code",
      "source": [
        "df3.close"
      ],
      "metadata": {
        "id": "molnxCywT2l5",
        "colab": {
          "base_uri": "https://localhost:8080/"
        },
        "outputId": "5473eead-a7d1-4acb-839f-df58dbd7509b"
      },
      "execution_count": 26,
      "outputs": [
        {
          "output_type": "execute_result",
          "data": {
            "text/plain": [
              "date\n",
              "2023-03-01    15450.0\n",
              "2023-03-02    15472.0\n",
              "2023-03-03    15537.0\n",
              "2023-03-06    15661.0\n",
              "2023-03-07    15779.0\n",
              "2023-03-08    15696.0\n",
              "2023-03-09    15671.0\n",
              "2023-03-10    15402.0\n",
              "2023-03-13    15410.0\n",
              "2023-03-14    15262.0\n",
              "2023-03-15    15250.0\n",
              "2023-03-16    15152.0\n",
              "2023-03-17    15324.0\n",
              "2023-03-20    15307.0\n",
              "2023-03-21    15382.0\n",
              "2023-03-22    15630.0\n",
              "2023-03-23    15739.0\n",
              "2023-03-24    15816.0\n",
              "2023-03-27    15736.0\n",
              "2023-03-28    15596.0\n",
              "2023-03-29    15645.0\n",
              "2023-03-30    15726.0\n",
              "2023-03-31    15771.0\n",
              "2023-04-06    15670.0\n",
              "2023-04-07    15730.0\n",
              "2023-04-10    15758.0\n",
              "2023-04-11    15822.0\n",
              "2023-04-12    15821.0\n",
              "2023-04-13    15714.0\n",
              "2023-04-14    15848.0\n",
              "2023-04-17    15882.0\n",
              "2023-04-18    15806.0\n",
              "2023-04-19    15710.0\n",
              "2023-04-20    15665.0\n",
              "2023-04-21    15549.0\n",
              "2023-04-24    15553.0\n",
              "2023-04-25    15322.0\n",
              "2023-04-26    15311.0\n",
              "2023-04-27    15362.0\n",
              "2023-04-28    15510.0\n",
              "2023-05-02    15538.0\n",
              "2023-05-03    15452.0\n",
              "2023-05-04    15499.0\n",
              "2023-05-05    15534.0\n",
              "2023-05-08    15610.0\n",
              "2023-05-09    15624.0\n",
              "2023-05-10    15500.0\n",
              "2023-05-11    15413.0\n",
              "2023-05-12    15407.0\n",
              "2023-05-15    15441.0\n",
              "2023-05-16    15632.0\n",
              "2023-05-17    15876.0\n",
              "Name: close, dtype: float64"
            ]
          },
          "metadata": {},
          "execution_count": 26
        }
      ]
    },
    {
      "cell_type": "code",
      "source": [
        "df_many = pd.concat([df1.Close, df2.Close, df3.close, df4.Close], axis=1)\n"
      ],
      "metadata": {
        "id": "1W7wptKHRgTb"
      },
      "execution_count": 27,
      "outputs": []
    },
    {
      "cell_type": "code",
      "source": [
        "#df_many.columns=['0050','05Call-16000','05Future', '05Put-15000']\n",
        "name1='0050'\n",
        "name2='06Call-16000'\n",
        "name3='06Future'\n",
        "name4='06Put-15000'\n",
        "df_many.columns=[name1,name2,name3, name4]"
      ],
      "metadata": {
        "id": "fDW_7Vc1RpA4"
      },
      "execution_count": 28,
      "outputs": []
    },
    {
      "cell_type": "code",
      "source": [
        "df_many.head()"
      ],
      "metadata": {
        "colab": {
          "base_uri": "https://localhost:8080/",
          "height": 237
        },
        "id": "Pg2PFhSITtli",
        "outputId": "cd9587a2-8bf7-4a9d-b7e6-042ec1001200"
      },
      "execution_count": 29,
      "outputs": [
        {
          "output_type": "execute_result",
          "data": {
            "text/plain": [
              "              0050  06Call-16000  06Future  06Put-15000\n",
              "date                                                   \n",
              "2023-03-01  119.35         317.0   15450.0        400.0\n",
              "2023-03-02  119.25         288.0   15472.0          0.0\n",
              "2023-03-03  119.35         327.0   15537.0        360.0\n",
              "2023-03-06  120.50         396.0   15661.0        307.0\n",
              "2023-03-07  121.30           0.0   15779.0        270.0"
            ],
            "text/html": [
              "\n",
              "  <div id=\"df-e4d59400-2c60-406c-a7dc-0d8d37b6d93d\">\n",
              "    <div class=\"colab-df-container\">\n",
              "      <div>\n",
              "<style scoped>\n",
              "    .dataframe tbody tr th:only-of-type {\n",
              "        vertical-align: middle;\n",
              "    }\n",
              "\n",
              "    .dataframe tbody tr th {\n",
              "        vertical-align: top;\n",
              "    }\n",
              "\n",
              "    .dataframe thead th {\n",
              "        text-align: right;\n",
              "    }\n",
              "</style>\n",
              "<table border=\"1\" class=\"dataframe\">\n",
              "  <thead>\n",
              "    <tr style=\"text-align: right;\">\n",
              "      <th></th>\n",
              "      <th>0050</th>\n",
              "      <th>06Call-16000</th>\n",
              "      <th>06Future</th>\n",
              "      <th>06Put-15000</th>\n",
              "    </tr>\n",
              "    <tr>\n",
              "      <th>date</th>\n",
              "      <th></th>\n",
              "      <th></th>\n",
              "      <th></th>\n",
              "      <th></th>\n",
              "    </tr>\n",
              "  </thead>\n",
              "  <tbody>\n",
              "    <tr>\n",
              "      <th>2023-03-01</th>\n",
              "      <td>119.35</td>\n",
              "      <td>317.0</td>\n",
              "      <td>15450.0</td>\n",
              "      <td>400.0</td>\n",
              "    </tr>\n",
              "    <tr>\n",
              "      <th>2023-03-02</th>\n",
              "      <td>119.25</td>\n",
              "      <td>288.0</td>\n",
              "      <td>15472.0</td>\n",
              "      <td>0.0</td>\n",
              "    </tr>\n",
              "    <tr>\n",
              "      <th>2023-03-03</th>\n",
              "      <td>119.35</td>\n",
              "      <td>327.0</td>\n",
              "      <td>15537.0</td>\n",
              "      <td>360.0</td>\n",
              "    </tr>\n",
              "    <tr>\n",
              "      <th>2023-03-06</th>\n",
              "      <td>120.50</td>\n",
              "      <td>396.0</td>\n",
              "      <td>15661.0</td>\n",
              "      <td>307.0</td>\n",
              "    </tr>\n",
              "    <tr>\n",
              "      <th>2023-03-07</th>\n",
              "      <td>121.30</td>\n",
              "      <td>0.0</td>\n",
              "      <td>15779.0</td>\n",
              "      <td>270.0</td>\n",
              "    </tr>\n",
              "  </tbody>\n",
              "</table>\n",
              "</div>\n",
              "      <button class=\"colab-df-convert\" onclick=\"convertToInteractive('df-e4d59400-2c60-406c-a7dc-0d8d37b6d93d')\"\n",
              "              title=\"Convert this dataframe to an interactive table.\"\n",
              "              style=\"display:none;\">\n",
              "        \n",
              "  <svg xmlns=\"http://www.w3.org/2000/svg\" height=\"24px\"viewBox=\"0 0 24 24\"\n",
              "       width=\"24px\">\n",
              "    <path d=\"M0 0h24v24H0V0z\" fill=\"none\"/>\n",
              "    <path d=\"M18.56 5.44l.94 2.06.94-2.06 2.06-.94-2.06-.94-.94-2.06-.94 2.06-2.06.94zm-11 1L8.5 8.5l.94-2.06 2.06-.94-2.06-.94L8.5 2.5l-.94 2.06-2.06.94zm10 10l.94 2.06.94-2.06 2.06-.94-2.06-.94-.94-2.06-.94 2.06-2.06.94z\"/><path d=\"M17.41 7.96l-1.37-1.37c-.4-.4-.92-.59-1.43-.59-.52 0-1.04.2-1.43.59L10.3 9.45l-7.72 7.72c-.78.78-.78 2.05 0 2.83L4 21.41c.39.39.9.59 1.41.59.51 0 1.02-.2 1.41-.59l7.78-7.78 2.81-2.81c.8-.78.8-2.07 0-2.86zM5.41 20L4 18.59l7.72-7.72 1.47 1.35L5.41 20z\"/>\n",
              "  </svg>\n",
              "      </button>\n",
              "      \n",
              "  <style>\n",
              "    .colab-df-container {\n",
              "      display:flex;\n",
              "      flex-wrap:wrap;\n",
              "      gap: 12px;\n",
              "    }\n",
              "\n",
              "    .colab-df-convert {\n",
              "      background-color: #E8F0FE;\n",
              "      border: none;\n",
              "      border-radius: 50%;\n",
              "      cursor: pointer;\n",
              "      display: none;\n",
              "      fill: #1967D2;\n",
              "      height: 32px;\n",
              "      padding: 0 0 0 0;\n",
              "      width: 32px;\n",
              "    }\n",
              "\n",
              "    .colab-df-convert:hover {\n",
              "      background-color: #E2EBFA;\n",
              "      box-shadow: 0px 1px 2px rgba(60, 64, 67, 0.3), 0px 1px 3px 1px rgba(60, 64, 67, 0.15);\n",
              "      fill: #174EA6;\n",
              "    }\n",
              "\n",
              "    [theme=dark] .colab-df-convert {\n",
              "      background-color: #3B4455;\n",
              "      fill: #D2E3FC;\n",
              "    }\n",
              "\n",
              "    [theme=dark] .colab-df-convert:hover {\n",
              "      background-color: #434B5C;\n",
              "      box-shadow: 0px 1px 3px 1px rgba(0, 0, 0, 0.15);\n",
              "      filter: drop-shadow(0px 1px 2px rgba(0, 0, 0, 0.3));\n",
              "      fill: #FFFFFF;\n",
              "    }\n",
              "  </style>\n",
              "\n",
              "      <script>\n",
              "        const buttonEl =\n",
              "          document.querySelector('#df-e4d59400-2c60-406c-a7dc-0d8d37b6d93d button.colab-df-convert');\n",
              "        buttonEl.style.display =\n",
              "          google.colab.kernel.accessAllowed ? 'block' : 'none';\n",
              "\n",
              "        async function convertToInteractive(key) {\n",
              "          const element = document.querySelector('#df-e4d59400-2c60-406c-a7dc-0d8d37b6d93d');\n",
              "          const dataTable =\n",
              "            await google.colab.kernel.invokeFunction('convertToInteractive',\n",
              "                                                     [key], {});\n",
              "          if (!dataTable) return;\n",
              "\n",
              "          const docLinkHtml = 'Like what you see? Visit the ' +\n",
              "            '<a target=\"_blank\" href=https://colab.research.google.com/notebooks/data_table.ipynb>data table notebook</a>'\n",
              "            + ' to learn more about interactive tables.';\n",
              "          element.innerHTML = '';\n",
              "          dataTable['output_type'] = 'display_data';\n",
              "          await google.colab.output.renderOutput(dataTable, element);\n",
              "          const docLink = document.createElement('div');\n",
              "          docLink.innerHTML = docLinkHtml;\n",
              "          element.appendChild(docLink);\n",
              "        }\n",
              "      </script>\n",
              "    </div>\n",
              "  </div>\n",
              "  "
            ]
          },
          "metadata": {},
          "execution_count": 29
        }
      ]
    },
    {
      "cell_type": "code",
      "source": [
        "df_many.plot()"
      ],
      "metadata": {
        "colab": {
          "base_uri": "https://localhost:8080/",
          "height": 462
        },
        "id": "9CERIGVNSy2K",
        "outputId": "4d5efe3a-eb89-49e5-b72a-f19ee04c3244"
      },
      "execution_count": 30,
      "outputs": [
        {
          "output_type": "execute_result",
          "data": {
            "text/plain": [
              "<Axes: xlabel='date'>"
            ]
          },
          "metadata": {},
          "execution_count": 30
        },
        {
          "output_type": "display_data",
          "data": {
            "text/plain": [
              "<Figure size 640x480 with 1 Axes>"
            ],
            "image/png": "[encoded data removed]"
          },
          "metadata": {}
        }
      ]
    },
    {
      "cell_type": "code",
      "source": [
        "#df_many['0050']=df_many['0050']/df_many.iloc[0][0]\n",
        "#df_many['05Call-16000']=df_many['05Call-16000']/df_many.iloc[0][1]\n",
        "#df_many['05Future']=df_many['05Future']/df_many.iloc[0][2]\n",
        "#df_many['05Put-15000']=df_many['05Put-15000']/df_many.iloc[0][3]"
      ],
      "metadata": {
        "id": "LzBIlwNpTDlA"
      },
      "execution_count": 31,
      "outputs": []
    },
    {
      "cell_type": "code",
      "source": [
        "df_many1=df_many[(df_many[name2]!=0) & (df_many[name4]!=0)]"
      ],
      "metadata": {
        "id": "eLWeDtLbfX4O"
      },
      "execution_count": 32,
      "outputs": []
    },
    {
      "cell_type": "code",
      "source": [
        "df_many[name1]=(df_many[name1]/df_many.iloc[0][0]-1)*10\n",
        "df_many[name2]=df_many[name2]/df_many.iloc[0][1]-1\n",
        "df_many[name3]=(df_many[name3]/df_many.iloc[0][2]-1)*10\n",
        "df_many[name4]=df_many[name4]/df_many.iloc[0][3]-1"
      ],
      "metadata": {
        "id": "YzMJmgBAIU_1"
      },
      "execution_count": 33,
      "outputs": []
    },
    {
      "cell_type": "code",
      "source": [
        "df_many.head()"
      ],
      "metadata": {
        "colab": {
          "base_uri": "https://localhost:8080/",
          "height": 237
        },
        "id": "DA7xCVEDTRow",
        "outputId": "ab780250-4051-494e-9c31-30ae21374c8a"
      },
      "execution_count": 34,
      "outputs": [
        {
          "output_type": "execute_result",
          "data": {
            "text/plain": [
              "                0050  06Call-16000  06Future  06Put-15000\n",
              "date                                                     \n",
              "2023-03-01  0.000000      0.000000  0.000000       0.0000\n",
              "2023-03-02 -0.008379     -0.091483  0.014239      -1.0000\n",
              "2023-03-03  0.000000      0.031546  0.056311      -0.1000\n",
              "2023-03-06  0.096355      0.249211  0.136570      -0.2325\n",
              "2023-03-07  0.163385     -1.000000  0.212945      -0.3250"
            ],
            "text/html": [
              "\n",
              "  <div id=\"df-f9e5fedf-dc2f-4a83-afb5-8bf52898d9c9\">\n",
              "    <div class=\"colab-df-container\">\n",
              "      <div>\n",
              "<style scoped>\n",
              "    .dataframe tbody tr th:only-of-type {\n",
              "        vertical-align: middle;\n",
              "    }\n",
              "\n",
              "    .dataframe tbody tr th {\n",
              "        vertical-align: top;\n",
              "    }\n",
              "\n",
              "    .dataframe thead th {\n",
              "        text-align: right;\n",
              "    }\n",
              "</style>\n",
              "<table border=\"1\" class=\"dataframe\">\n",
              "  <thead>\n",
              "    <tr style=\"text-align: right;\">\n",
              "      <th></th>\n",
              "      <th>0050</th>\n",
              "      <th>06Call-16000</th>\n",
              "      <th>06Future</th>\n",
              "      <th>06Put-15000</th>\n",
              "    </tr>\n",
              "    <tr>\n",
              "      <th>date</th>\n",
              "      <th></th>\n",
              "      <th></th>\n",
              "      <th></th>\n",
              "      <th></th>\n",
              "    </tr>\n",
              "  </thead>\n",
              "  <tbody>\n",
              "    <tr>\n",
              "      <th>2023-03-01</th>\n",
              "      <td>0.000000</td>\n",
              "      <td>0.000000</td>\n",
              "      <td>0.000000</td>\n",
              "      <td>0.0000</td>\n",
              "    </tr>\n",
              "    <tr>\n",
              "      <th>2023-03-02</th>\n",
              "      <td>-0.008379</td>\n",
              "      <td>-0.091483</td>\n",
              "      <td>0.014239</td>\n",
              "      <td>-1.0000</td>\n",
              "    </tr>\n",
              "    <tr>\n",
              "      <th>2023-03-03</th>\n",
              "      <td>0.000000</td>\n",
              "      <td>0.031546</td>\n",
              "      <td>0.056311</td>\n",
              "      <td>-0.1000</td>\n",
              "    </tr>\n",
              "    <tr>\n",
              "      <th>2023-03-06</th>\n",
              "      <td>0.096355</td>\n",
              "      <td>0.249211</td>\n",
              "      <td>0.136570</td>\n",
              "      <td>-0.2325</td>\n",
              "    </tr>\n",
              "    <tr>\n",
              "      <th>2023-03-07</th>\n",
              "      <td>0.163385</td>\n",
              "      <td>-1.000000</td>\n",
              "      <td>0.212945</td>\n",
              "      <td>-0.3250</td>\n",
              "    </tr>\n",
              "  </tbody>\n",
              "</table>\n",
              "</div>\n",
              "      <button class=\"colab-df-convert\" onclick=\"convertToInteractive('df-f9e5fedf-dc2f-4a83-afb5-8bf52898d9c9')\"\n",
              "              title=\"Convert this dataframe to an interactive table.\"\n",
              "              style=\"display:none;\">\n",
              "        \n",
              "  <svg xmlns=\"http://www.w3.org/2000/svg\" height=\"24px\"viewBox=\"0 0 24 24\"\n",
              "       width=\"24px\">\n",
              "    <path d=\"M0 0h24v24H0V0z\" fill=\"none\"/>\n",
              "    <path d=\"M18.56 5.44l.94 2.06.94-2.06 2.06-.94-2.06-.94-.94-2.06-.94 2.06-2.06.94zm-11 1L8.5 8.5l.94-2.06 2.06-.94-2.06-.94L8.5 2.5l-.94 2.06-2.06.94zm10 10l.94 2.06.94-2.06 2.06-.94-2.06-.94-.94-2.06-.94 2.06-2.06.94z\"/><path d=\"M17.41 7.96l-1.37-1.37c-.4-.4-.92-.59-1.43-.59-.52 0-1.04.2-1.43.59L10.3 9.45l-7.72 7.72c-.78.78-.78 2.05 0 2.83L4 21.41c.39.39.9.59 1.41.59.51 0 1.02-.2 1.41-.59l7.78-7.78 2.81-2.81c.8-.78.8-2.07 0-2.86zM5.41 20L4 18.59l7.72-7.72 1.47 1.35L5.41 20z\"/>\n",
              "  </svg>\n",
              "      </button>\n",
              "      \n",
              "  <style>\n",
              "    .colab-df-container {\n",
              "      display:flex;\n",
              "      flex-wrap:wrap;\n",
              "      gap: 12px;\n",
              "    }\n",
              "\n",
              "    .colab-df-convert {\n",
              "      background-color: #E8F0FE;\n",
              "      border: none;\n",
              "      border-radius: 50%;\n",
              "      cursor: pointer;\n",
              "      display: none;\n",
              "      fill: #1967D2;\n",
              "      height: 32px;\n",
              "      padding: 0 0 0 0;\n",
              "      width: 32px;\n",
              "    }\n",
              "\n",
              "    .colab-df-convert:hover {\n",
              "      background-color: #E2EBFA;\n",
              "      box-shadow: 0px 1px 2px rgba(60, 64, 67, 0.3), 0px 1px 3px 1px rgba(60, 64, 67, 0.15);\n",
              "      fill: #174EA6;\n",
              "    }\n",
              "\n",
              "    [theme=dark] .colab-df-convert {\n",
              "      background-color: #3B4455;\n",
              "      fill: #D2E3FC;\n",
              "    }\n",
              "\n",
              "    [theme=dark] .colab-df-convert:hover {\n",
              "      background-color: #434B5C;\n",
              "      box-shadow: 0px 1px 3px 1px rgba(0, 0, 0, 0.15);\n",
              "      filter: drop-shadow(0px 1px 2px rgba(0, 0, 0, 0.3));\n",
              "      fill: #FFFFFF;\n",
              "    }\n",
              "  </style>\n",
              "\n",
              "      <script>\n",
              "        const buttonEl =\n",
              "          document.querySelector('#df-f9e5fedf-dc2f-4a83-afb5-8bf52898d9c9 button.colab-df-convert');\n",
              "        buttonEl.style.display =\n",
              "          google.colab.kernel.accessAllowed ? 'block' : 'none';\n",
              "\n",
              "        async function convertToInteractive(key) {\n",
              "          const element = document.querySelector('#df-f9e5fedf-dc2f-4a83-afb5-8bf52898d9c9');\n",
              "          const dataTable =\n",
              "            await google.colab.kernel.invokeFunction('convertToInteractive',\n",
              "                                                     [key], {});\n",
              "          if (!dataTable) return;\n",
              "\n",
              "          const docLinkHtml = 'Like what you see? Visit the ' +\n",
              "            '<a target=\"_blank\" href=https://colab.research.google.com/notebooks/data_table.ipynb>data table notebook</a>'\n",
              "            + ' to learn more about interactive tables.';\n",
              "          element.innerHTML = '';\n",
              "          dataTable['output_type'] = 'display_data';\n",
              "          await google.colab.output.renderOutput(dataTable, element);\n",
              "          const docLink = document.createElement('div');\n",
              "          docLink.innerHTML = docLinkHtml;\n",
              "          element.appendChild(docLink);\n",
              "        }\n",
              "      </script>\n",
              "    </div>\n",
              "  </div>\n",
              "  "
            ]
          },
          "metadata": {},
          "execution_count": 34
        }
      ]
    },
    {
      "cell_type": "code",
      "source": [
        "df_many.plot()"
      ],
      "metadata": {
        "colab": {
          "base_uri": "https://localhost:8080/",
          "height": 462
        },
        "id": "zNfU3LKKTbFJ",
        "outputId": "11baf81a-942a-4775-8672-736520cb82f8"
      },
      "execution_count": 35,
      "outputs": [
        {
          "output_type": "execute_result",
          "data": {
            "text/plain": [
              "<Axes: xlabel='date'>"
            ]
          },
          "metadata": {},
          "execution_count": 35
        },
        {
          "output_type": "display_data",
          "data": {
            "text/plain": [
              "<Figure size 640x480 with 1 Axes>"
            ],
            "image/png": "[encoded data removed]"
          },
          "metadata": {}
        }
      ]
    },
    {
      "cell_type": "code",
      "source": [
        "df_many.isnull().sum()"
      ],
      "metadata": {
        "id": "HN82ieLsy1tu",
        "outputId": "0a96af32-abe7-4623-9578-d87066c304ee",
        "colab": {
          "base_uri": "https://localhost:8080/"
        }
      },
      "execution_count": 36,
      "outputs": [
        {
          "output_type": "execute_result",
          "data": {
            "text/plain": [
              "0050            0\n",
              "06Call-16000    0\n",
              "06Future        0\n",
              "06Put-15000     0\n",
              "dtype: int64"
            ]
          },
          "metadata": {},
          "execution_count": 36
        }
      ]
    },
    {
      "cell_type": "code",
      "source": [
        "df_many.describe()"
      ],
      "metadata": {
        "id": "qvFo1-cYzDbW",
        "outputId": "fa932fe1-3c4a-4a2c-c81b-611c31f030b0",
        "colab": {
          "base_uri": "https://localhost:8080/",
          "height": 300
        }
      },
      "execution_count": 37,
      "outputs": [
        {
          "output_type": "execute_result",
          "data": {
            "text/plain": [
              "            0050  06Call-16000   06Future  06Put-15000\n",
              "count  52.000000     52.000000  52.000000    52.000000\n",
              "mean   -0.013857     -0.304538   0.081815    -0.431635\n",
              "std     0.135988      0.395643   0.119294     0.293605\n",
              "min    -0.280687     -1.000000  -0.192880    -1.000000\n",
              "25%    -0.131965     -0.678233  -0.010356    -0.628750\n",
              "50%    -0.029326     -0.231861   0.099029    -0.453750\n",
              "75%     0.101592      0.022082   0.179288    -0.236250\n",
              "max     0.238793      0.309148   0.279612     0.247500"
            ],
            "text/html": [
              "\n",
              "  <div id=\"df-213d6b2c-d613-405f-85a5-df41ffeb2170\">\n",
              "    <div class=\"colab-df-container\">\n",
              "      <div>\n",
              "<style scoped>\n",
              "    .dataframe tbody tr th:only-of-type {\n",
              "        vertical-align: middle;\n",
              "    }\n",
              "\n",
              "    .dataframe tbody tr th {\n",
              "        vertical-align: top;\n",
              "    }\n",
              "\n",
              "    .dataframe thead th {\n",
              "        text-align: right;\n",
              "    }\n",
              "</style>\n",
              "<table border=\"1\" class=\"dataframe\">\n",
              "  <thead>\n",
              "    <tr style=\"text-align: right;\">\n",
              "      <th></th>\n",
              "      <th>0050</th>\n",
              "      <th>06Call-16000</th>\n",
              "      <th>06Future</th>\n",
              "      <th>06Put-15000</th>\n",
              "    </tr>\n",
              "  </thead>\n",
              "  <tbody>\n",
              "    <tr>\n",
              "      <th>count</th>\n",
              "      <td>52.000000</td>\n",
              "      <td>52.000000</td>\n",
              "      <td>52.000000</td>\n",
              "      <td>52.000000</td>\n",
              "    </tr>\n",
              "    <tr>\n",
              "      <th>mean</th>\n",
              "      <td>-0.013857</td>\n",
              "      <td>-0.304538</td>\n",
              "      <td>0.081815</td>\n",
              "      <td>-0.431635</td>\n",
              "    </tr>\n",
              "    <tr>\n",
              "      <th>std</th>\n",
              "      <td>0.135988</td>\n",
              "      <td>0.395643</td>\n",
              "      <td>0.119294</td>\n",
              "      <td>0.293605</td>\n",
              "    </tr>\n",
              "    <tr>\n",
              "      <th>min</th>\n",
              "      <td>-0.280687</td>\n",
              "      <td>-1.000000</td>\n",
              "      <td>-0.192880</td>\n",
              "      <td>-1.000000</td>\n",
              "    </tr>\n",
              "    <tr>\n",
              "      <th>25%</th>\n",
              "      <td>-0.131965</td>\n",
              "      <td>-0.678233</td>\n",
              "      <td>-0.010356</td>\n",
              "      <td>-0.628750</td>\n",
              "    </tr>\n",
              "    <tr>\n",
              "      <th>50%</th>\n",
              "      <td>-0.029326</td>\n",
              "      <td>-0.231861</td>\n",
              "      <td>0.099029</td>\n",
              "      <td>-0.453750</td>\n",
              "    </tr>\n",
              "    <tr>\n",
              "      <th>75%</th>\n",
              "      <td>0.101592</td>\n",
              "      <td>0.022082</td>\n",
              "      <td>0.179288</td>\n",
              "      <td>-0.236250</td>\n",
              "    </tr>\n",
              "    <tr>\n",
              "      <th>max</th>\n",
              "      <td>0.238793</td>\n",
              "      <td>0.309148</td>\n",
              "      <td>0.279612</td>\n",
              "      <td>0.247500</td>\n",
              "    </tr>\n",
              "  </tbody>\n",
              "</table>\n",
              "</div>\n",
              "      <button class=\"colab-df-convert\" onclick=\"convertToInteractive('df-213d6b2c-d613-405f-85a5-df41ffeb2170')\"\n",
              "              title=\"Convert this dataframe to an interactive table.\"\n",
              "              style=\"display:none;\">\n",
              "        \n",
              "  <svg xmlns=\"http://www.w3.org/2000/svg\" height=\"24px\"viewBox=\"0 0 24 24\"\n",
              "       width=\"24px\">\n",
              "    <path d=\"M0 0h24v24H0V0z\" fill=\"none\"/>\n",
              "    <path d=\"M18.56 5.44l.94 2.06.94-2.06 2.06-.94-2.06-.94-.94-2.06-.94 2.06-2.06.94zm-11 1L8.5 8.5l.94-2.06 2.06-.94-2.06-.94L8.5 2.5l-.94 2.06-2.06.94zm10 10l.94 2.06.94-2.06 2.06-.94-2.06-.94-.94-2.06-.94 2.06-2.06.94z\"/><path d=\"M17.41 7.96l-1.37-1.37c-.4-.4-.92-.59-1.43-.59-.52 0-1.04.2-1.43.59L10.3 9.45l-7.72 7.72c-.78.78-.78 2.05 0 2.83L4 21.41c.39.39.9.59 1.41.59.51 0 1.02-.2 1.41-.59l7.78-7.78 2.81-2.81c.8-.78.8-2.07 0-2.86zM5.41 20L4 18.59l7.72-7.72 1.47 1.35L5.41 20z\"/>\n",
              "  </svg>\n",
              "      </button>\n",
              "      \n",
              "  <style>\n",
              "    .colab-df-container {\n",
              "      display:flex;\n",
              "      flex-wrap:wrap;\n",
              "      gap: 12px;\n",
              "    }\n",
              "\n",
              "    .colab-df-convert {\n",
              "      background-color: #E8F0FE;\n",
              "      border: none;\n",
              "      border-radius: 50%;\n",
              "      cursor: pointer;\n",
              "      display: none;\n",
              "      fill: #1967D2;\n",
              "      height: 32px;\n",
              "      padding: 0 0 0 0;\n",
              "      width: 32px;\n",
              "    }\n",
              "\n",
              "    .colab-df-convert:hover {\n",
              "      background-color: #E2EBFA;\n",
              "      box-shadow: 0px 1px 2px rgba(60, 64, 67, 0.3), 0px 1px 3px 1px rgba(60, 64, 67, 0.15);\n",
              "      fill: #174EA6;\n",
              "    }\n",
              "\n",
              "    [theme=dark] .colab-df-convert {\n",
              "      background-color: #3B4455;\n",
              "      fill: #D2E3FC;\n",
              "    }\n",
              "\n",
              "    [theme=dark] .colab-df-convert:hover {\n",
              "      background-color: #434B5C;\n",
              "      box-shadow: 0px 1px 3px 1px rgba(0, 0, 0, 0.15);\n",
              "      filter: drop-shadow(0px 1px 2px rgba(0, 0, 0, 0.3));\n",
              "      fill: #FFFFFF;\n",
              "    }\n",
              "  </style>\n",
              "\n",
              "      <script>\n",
              "        const buttonEl =\n",
              "          document.querySelector('#df-213d6b2c-d613-405f-85a5-df41ffeb2170 button.colab-df-convert');\n",
              "        buttonEl.style.display =\n",
              "          google.colab.kernel.accessAllowed ? 'block' : 'none';\n",
              "\n",
              "        async function convertToInteractive(key) {\n",
              "          const element = document.querySelector('#df-213d6b2c-d613-405f-85a5-df41ffeb2170');\n",
              "          const dataTable =\n",
              "            await google.colab.kernel.invokeFunction('convertToInteractive',\n",
              "                                                     [key], {});\n",
              "          if (!dataTable) return;\n",
              "\n",
              "          const docLinkHtml = 'Like what you see? Visit the ' +\n",
              "            '<a target=\"_blank\" href=https://colab.research.google.com/notebooks/data_table.ipynb>data table notebook</a>'\n",
              "            + ' to learn more about interactive tables.';\n",
              "          element.innerHTML = '';\n",
              "          dataTable['output_type'] = 'display_data';\n",
              "          await google.colab.output.renderOutput(dataTable, element);\n",
              "          const docLink = document.createElement('div');\n",
              "          docLink.innerHTML = docLinkHtml;\n",
              "          element.appendChild(docLink);\n",
              "        }\n",
              "      </script>\n",
              "    </div>\n",
              "  </div>\n",
              "  "
            ]
          },
          "metadata": {},
          "execution_count": 37
        }
      ]
    },
    {
      "cell_type": "markdown",
      "source": [
        "注意：如果要删除多个列中的值为0的行，请使用以下语句：\n",
        "df = df[(df['A'] != 0) & (df['B'] != 0)]"
      ],
      "metadata": {
        "id": "efrkLnguz-VP"
      }
    },
    {
      "cell_type": "code",
      "source": [
        "df_many1=df_many[(df_many[name2]!=0) & (df_many[name4]!=0)]"
      ],
      "metadata": {
        "id": "Q1zPeSTw0CR0"
      },
      "execution_count": 38,
      "outputs": []
    },
    {
      "cell_type": "code",
      "source": [
        "df_many1.plot()"
      ],
      "metadata": {
        "id": "wxlhyFfX0jEn",
        "outputId": "d82ebdf8-8ed1-46e0-ca68-9476240a7064",
        "colab": {
          "base_uri": "https://localhost:8080/",
          "height": 462
        }
      },
      "execution_count": 39,
      "outputs": [
        {
          "output_type": "execute_result",
          "data": {
            "text/plain": [
              "<Axes: xlabel='date'>"
            ]
          },
          "metadata": {},
          "execution_count": 39
        },
        {
          "output_type": "display_data",
          "data": {
            "text/plain": [
              "<Figure size 640x480 with 1 Axes>"
            ],
            "image/png": "[encoded data removed]"
          },
          "metadata": {}
        }
      ]
    },
    {
      "cell_type": "markdown",
      "metadata": {
        "id": "AO5KB_vvmL8K"
      },
      "source": [
        "# 回測策略\n",
        "如果快線超過慢線，表示股票進入上漲的趨勢，此時進行買空操作，分析圖表以![https://ithelp.ithome.com.tw/upload/images/20210919/20141586vhDmTPQp9Z.png](https://ithelp.ithome.com.tw/upload/images/20210919/20141586vhDmTPQp9Z.png)表示。\\\n",
        "如果快線跌過慢線，表示股票進入下跌的趨勢，此時進行賣空操作，分析圖表以![https://ithelp.ithome.com.tw/upload/images/20210919/20141586Y98Ntg07AE.png](https://ithelp.ithome.com.tw/upload/images/20210919/20141586Y98Ntg07AE.png)表示。\\\n",
        "綠色代表上一次操作的獲利情形，綠色表示獲利，綠色表示賠錢。"
      ]
    },
    {
      "cell_type": "code",
      "metadata": {
        "id": "1BrqdTmZmMEA",
        "colab": {
          "base_uri": "https://localhost:8080/",
          "height": 242
        },
        "outputId": "c3de2b4d-cc3f-4612-f7ba-845f75678e86"
      },
      "source": [
        "class SmaCross(Strategy):\n",
        "    def init(self):\n",
        "        self.fast_line = self.I(SMA, self.data.Close, 20)\n",
        "        self.slow_line = self.I(SMA, self.data.Close, 50)\n",
        "\n",
        "    def next(self):\n",
        "        if crossover(self.fast_line, self.slow_line):\n",
        "            print(\n",
        "                f\"{self.data.index[-1]} Buy: Price: {self.data.Close[-1]}, Slow: {self.slow_line[-5:]}, Fast: {self.fast_line[-5:]}\"\n",
        "            )\n",
        "            self.buy()\n",
        "        elif crossover(self.slow_line, self.fast_line):\n",
        "            print(\n",
        "                f\"{self.data.index[-1]} Sell: Price: {self.data.Close[-1]}, Slow: {self.slow_line[-5:]}, Fast: {self.fast_line[-5:]}\"\n",
        "            )\n",
        "\n",
        "            self.sell()\n"
      ],
      "execution_count": 40,
      "outputs": [
        {
          "output_type": "error",
          "ename": "NameError",
          "evalue": "ignored",
          "traceback": [
            "\u001b[0;31m---------------------------------------------------------------------------\u001b[0m",
            "\u001b[0;31mNameError\u001b[0m                                 Traceback (most recent call last)",
            "\u001b[0;32m<ipython-input-40-a134f22bd406>\u001b[0m in \u001b[0;36m<cell line: 1>\u001b[0;34m()\u001b[0m\n\u001b[0;32m----> 1\u001b[0;31m \u001b[0;32mclass\u001b[0m \u001b[0mSmaCross\u001b[0m\u001b[0;34m(\u001b[0m\u001b[0mStrategy\u001b[0m\u001b[0;34m)\u001b[0m\u001b[0;34m:\u001b[0m\u001b[0;34m\u001b[0m\u001b[0;34m\u001b[0m\u001b[0m\n\u001b[0m\u001b[1;32m      2\u001b[0m     \u001b[0;32mdef\u001b[0m \u001b[0minit\u001b[0m\u001b[0;34m(\u001b[0m\u001b[0mself\u001b[0m\u001b[0;34m)\u001b[0m\u001b[0;34m:\u001b[0m\u001b[0;34m\u001b[0m\u001b[0;34m\u001b[0m\u001b[0m\n\u001b[1;32m      3\u001b[0m         \u001b[0mself\u001b[0m\u001b[0;34m.\u001b[0m\u001b[0mfast_line\u001b[0m \u001b[0;34m=\u001b[0m \u001b[0mself\u001b[0m\u001b[0;34m.\u001b[0m\u001b[0mI\u001b[0m\u001b[0;34m(\u001b[0m\u001b[0mSMA\u001b[0m\u001b[0;34m,\u001b[0m \u001b[0mself\u001b[0m\u001b[0;34m.\u001b[0m\u001b[0mdata\u001b[0m\u001b[0;34m.\u001b[0m\u001b[0mClose\u001b[0m\u001b[0;34m,\u001b[0m \u001b[0;36m20\u001b[0m\u001b[0;34m)\u001b[0m\u001b[0;34m\u001b[0m\u001b[0;34m\u001b[0m\u001b[0m\n\u001b[1;32m      4\u001b[0m         \u001b[0mself\u001b[0m\u001b[0;34m.\u001b[0m\u001b[0mslow_line\u001b[0m \u001b[0;34m=\u001b[0m \u001b[0mself\u001b[0m\u001b[0;34m.\u001b[0m\u001b[0mI\u001b[0m\u001b[0;34m(\u001b[0m\u001b[0mSMA\u001b[0m\u001b[0;34m,\u001b[0m \u001b[0mself\u001b[0m\u001b[0;34m.\u001b[0m\u001b[0mdata\u001b[0m\u001b[0;34m.\u001b[0m\u001b[0mClose\u001b[0m\u001b[0;34m,\u001b[0m \u001b[0;36m50\u001b[0m\u001b[0;34m)\u001b[0m\u001b[0;34m\u001b[0m\u001b[0;34m\u001b[0m\u001b[0m\n\u001b[1;32m      5\u001b[0m \u001b[0;34m\u001b[0m\u001b[0m\n",
            "\u001b[0;31mNameError\u001b[0m: name 'Strategy' is not defined"
          ]
        }
      ]
    },
    {
      "cell_type": "code",
      "source": [
        "class SmaCross1(Strategy):\n",
        "# 只多不空  \n",
        "    def init(self):\n",
        "        self.fast_line = self.I(SMA, self.data.Close, 20)\n",
        "        self.slow_line = self.I(SMA, self.data.Close, 50)\n",
        "\n",
        "    def next(self):\n",
        "        if crossover(self.fast_line, self.slow_line):\n",
        "            print(\n",
        "                f\"{self.data.index[-1]} Buy: Price: {self.data.Close[-1]}, Slow: {self.slow_line[-5:]}, Fast: {self.fast_line[-5:]}\"\n",
        "            )\n",
        "            #self.buy()\n",
        "            # If ema1 crosses above ema2, buy the asset\n",
        "            #self.position.close()\n",
        "            self.buy()\n",
        "        elif crossover(self.slow_line, self.fast_line):\n",
        "            print(\n",
        "                f\"{self.data.index[-1]} Sell: Price: {self.data.Close[-1]}, Slow: {self.slow_line[-5:]}, Fast: {self.fast_line[-5:]}\"\n",
        "            )\n",
        "            self.position.close()\n",
        "            #self.sell()"
      ],
      "metadata": {
        "id": "TBCZkW7Z08dL"
      },
      "execution_count": null,
      "outputs": []
    },
    {
      "cell_type": "markdown",
      "metadata": {
        "id": "v3VCCIGzmNqE"
      },
      "source": [
        "# 執行策略\n",
        "- cash：本金。\n",
        "- commission：交易費用。\n",
        "- exclusive_orders：是否禁止多頭操作(同時只能買空或賣空)。\n",
        "- trade_on_close：於收盤時交易，否則預設於開盤交易。"
      ]
    },
    {
      "cell_type": "markdown",
      "source": [
        "exclusive_orders：若為True時，每次操作前自動關閉(close)上次操作。\n",
        "Buy(500)、Buy(1000) -> 最後持股1000\n",
        "Buy(500)、Sell(500) -> 賣空500\n",
        ".\n",
        "如果trade_on_close是True，市價訂單將根據當前柱的收盤價而不是下一個柱的開盤價執行。\n",
        "\n",
        "如果hedging是True，則允許同時雙向交易。如果False，則反向訂單首先以FIFO方式關閉現有交易。\n",
        "\n",
        "如果exclusive_orders是True，每個新訂單都會自動關閉之前的交易/頭寸，每次最多進行一次有效的交易（多頭或空頭）。"
      ],
      "metadata": {
        "id": "dNhOFeRazb9M"
      }
    },
    {
      "cell_type": "code",
      "metadata": {
        "id": "0KIeIvRSmNwJ"
      },
      "source": [
        "test = Backtest(\n",
        "    df,\n",
        "    SmaCross1,\n",
        "    cash=1000000,\n",
        "    commission=0.004,\n",
        "    exclusive_orders=True,\n",
        "    trade_on_close=True,\n",
        ")\n",
        "result = test.run()\n"
      ],
      "execution_count": null,
      "outputs": []
    },
    {
      "cell_type": "markdown",
      "metadata": {
        "id": "47is186LmQqy"
      },
      "source": [
        "# 分析結果\n",
        "將分析結果儲存，並利用預設瀏覽器開啟，\n",
        "result為詳細的分析結果。"
      ]
    },
    {
      "cell_type": "code",
      "source": [
        "test.plot()\n",
        "print(result)"
      ],
      "metadata": {
        "id": "lYNdXMDAvu9q"
      },
      "execution_count": null,
      "outputs": []
    },
    {
      "cell_type": "code",
      "metadata": {
        "id": "btFLDxUCmQyf"
      },
      "source": [
        "#test.plot(filename=f\"./backtest_result/{stock_index}.html\")\n",
        "#print(result)"
      ],
      "execution_count": null,
      "outputs": []
    },
    {
      "cell_type": "markdown",
      "metadata": {
        "id": "1H6W4GB4mu9p"
      },
      "source": [
        "![https://ithelp.ithome.com.tw/upload/images/20210919/20141586nTsggfN69g.png](https://ithelp.ithome.com.tw/upload/images/20210919/20141586nTsggfN69g.png)\n"
      ]
    },
    {
      "cell_type": "markdown",
      "metadata": {
        "id": "jdVUJ9zrmsT5"
      },
      "source": [
        "欄位 | 說明\n",
        "------------- | -------------\n",
        "Start                  |   起始時間\n",
        "End                    |   結束時間\n",
        "Duration               |   經過天數\n",
        "Exposure [%]           |   投資比率\n",
        "Equity Final [$]       |   最終資產\n",
        "Equity Peak [$]        |   最高資產\n",
        "Return [%]             |   報酬率\n",
        "Buy & Hold Return [%]  |   買入持有報酬率\n",
        "Max. Drawdown [%]      |   最大交易回落\n",
        "Avg. Drawdown [%]      |   平均交易回落\n",
        "Max. Drawdown Duration |   最長交易回落期間\n",
        "Avg. Drawdown Duration |   平均交易回落期間\n",
        "Win Rate [%]           |   勝率\n",
        "Best Trade [%]         |   最好交易報酬率\n",
        "Worst Trade [%]        |   最差交易報酬率\n",
        "Avg. Trade [%]         |   平均交易報酬率\n",
        "Max. Trade Duration    |   最長交易間隔\n",
        "Avg. Trade Duration    |   平均交易間隔\n",
        "Expectancy [%]         |   期望值\n",
        "SQN                    |   系統品質指標\n",
        "Sharpe Ratio           |   夏普比率\n",
        "Sortino Ratio          |   索丁諾比率\n",
        "Calmar Ratio           |   卡瑪比率\n",
        "_strategy              |   使用策略名稱\n",
        "*From https://hackmd.io/@s02260441/SkA7IWVJv*\n"
      ]
    }
  ]
}